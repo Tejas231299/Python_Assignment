{
 "cells": [
  {
   "cell_type": "code",
   "execution_count": 2,
   "id": "b2aa943c-7f0b-41fc-aafc-88ec3d8abc25",
   "metadata": {},
   "outputs": [],
   "source": [
    "dictio = {\n",
    "    \"key1\":\"value1\",\n",
    "    \"key2\":\"value2\"\n",
    "}"
   ]
  },
  {
   "cell_type": "code",
   "execution_count": 3,
   "id": "ffa85cdf-693f-430a-bfd8-49522538a4c3",
   "metadata": {},
   "outputs": [
    {
     "data": {
      "text/plain": [
       "dict"
      ]
     },
     "execution_count": 3,
     "metadata": {},
     "output_type": "execute_result"
    }
   ],
   "source": [
    "type(dictio)"
   ]
  },
  {
   "cell_type": "code",
   "execution_count": 59,
   "id": "07b0078c-3033-4b03-8ed0-66e6a83f5cbc",
   "metadata": {},
   "outputs": [],
   "source": [
    "state_wise_data = {\n",
    "    \"Delhi\": 1000,\n",
    "    \"Maharashtra\":500,\n",
    "    \"UP\":100\n",
    "}"
   ]
  },
  {
   "cell_type": "code",
   "execution_count": 6,
   "id": "1b54da24-e9c5-4d10-a30d-0d313360f179",
   "metadata": {},
   "outputs": [
    {
     "data": {
      "text/plain": [
       "1000"
      ]
     },
     "execution_count": 6,
     "metadata": {},
     "output_type": "execute_result"
    }
   ],
   "source": [
    "state_wise_data[\"Delhi\"]"
   ]
  },
  {
   "cell_type": "code",
   "execution_count": 7,
   "id": "5dc9ae35-1efe-4dc5-a5e3-8fde73a76d7c",
   "metadata": {},
   "outputs": [],
   "source": [
    "a = {}"
   ]
  },
  {
   "cell_type": "code",
   "execution_count": 8,
   "id": "603e8159-08c7-4041-a568-48fb8d35da8a",
   "metadata": {},
   "outputs": [
    {
     "data": {
      "text/plain": [
       "dict"
      ]
     },
     "execution_count": 8,
     "metadata": {},
     "output_type": "execute_result"
    }
   ],
   "source": [
    "type(a)"
   ]
  },
  {
   "cell_type": "code",
   "execution_count": 10,
   "id": "97b5146d-55d4-4dee-87bc-4e475376273e",
   "metadata": {},
   "outputs": [],
   "source": [
    "b = set()"
   ]
  },
  {
   "cell_type": "code",
   "execution_count": 11,
   "id": "6e2d48af-bca9-4a82-9d3e-135ddb3eaa90",
   "metadata": {},
   "outputs": [
    {
     "data": {
      "text/plain": [
       "set"
      ]
     },
     "execution_count": 11,
     "metadata": {},
     "output_type": "execute_result"
    }
   ],
   "source": [
    "type(b)"
   ]
  },
  {
   "cell_type": "code",
   "execution_count": 12,
   "id": "d4d640e4-9439-4066-b012-2a1c101dd7ee",
   "metadata": {},
   "outputs": [],
   "source": [
    "state_wise_data = {\n",
    "    \"Delhi\": 1000,\n",
    "    \"Maharashtra\":500,\n",
    "    \"UP\":100,\n",
    "    \"UP\":200,\n",
    "    \"UP\":300\n",
    "}"
   ]
  },
  {
   "cell_type": "code",
   "execution_count": 13,
   "id": "773a7128-2189-4206-b137-213a347f8194",
   "metadata": {},
   "outputs": [
    {
     "data": {
      "text/plain": [
       "300"
      ]
     },
     "execution_count": 13,
     "metadata": {},
     "output_type": "execute_result"
    }
   ],
   "source": [
    "state_wise_data[\"UP\"]"
   ]
  },
  {
   "cell_type": "code",
   "execution_count": 14,
   "id": "f82b6024-9492-4d81-bd8a-5f18166f628f",
   "metadata": {},
   "outputs": [
    {
     "data": {
      "text/plain": [
       "{'Delhi': 1000, 'Maharashtra': 500, 'UP': 300}"
      ]
     },
     "execution_count": 14,
     "metadata": {},
     "output_type": "execute_result"
    }
   ],
   "source": [
    "state_wise_data"
   ]
  },
  {
   "cell_type": "code",
   "execution_count": 15,
   "id": "044f86f3-f884-4e72-a423-9bdef8213919",
   "metadata": {},
   "outputs": [],
   "source": [
    "state_wise_data[\"Maharashtra\"] = 600"
   ]
  },
  {
   "cell_type": "code",
   "execution_count": 16,
   "id": "7f41c5b4-6923-4f28-a243-d5f086705685",
   "metadata": {},
   "outputs": [
    {
     "data": {
      "text/plain": [
       "{'Delhi': 1000, 'Maharashtra': 600, 'UP': 300}"
      ]
     },
     "execution_count": 16,
     "metadata": {},
     "output_type": "execute_result"
    }
   ],
   "source": [
    "state_wise_data"
   ]
  },
  {
   "cell_type": "code",
   "execution_count": 17,
   "id": "4fb0e391-74d0-4aa8-9b95-af8e79b189ea",
   "metadata": {},
   "outputs": [],
   "source": [
    "state_wise_data[\"maharashtra\"] = 600"
   ]
  },
  {
   "cell_type": "code",
   "execution_count": 18,
   "id": "7aca043d-6636-4756-a2d9-ba3d3f30aab3",
   "metadata": {},
   "outputs": [
    {
     "data": {
      "text/plain": [
       "{'Delhi': 1000, 'Maharashtra': 600, 'UP': 300, 'maharashtra': 600}"
      ]
     },
     "execution_count": 18,
     "metadata": {},
     "output_type": "execute_result"
    }
   ],
   "source": [
    "state_wise_data"
   ]
  },
  {
   "cell_type": "code",
   "execution_count": 19,
   "id": "067308ff-baf9-4d82-a5a4-73ef69d1c55c",
   "metadata": {},
   "outputs": [],
   "source": [
    "state_wise_data[\"Tamil Nadu\"] = 800"
   ]
  },
  {
   "cell_type": "code",
   "execution_count": 20,
   "id": "abf28528-6264-4bf3-8403-1f268981a6e7",
   "metadata": {},
   "outputs": [
    {
     "data": {
      "text/plain": [
       "{'Delhi': 1000,\n",
       " 'Maharashtra': 600,\n",
       " 'UP': 300,\n",
       " 'maharashtra': 600,\n",
       " 'Tamil Nadu': 800}"
      ]
     },
     "execution_count": 20,
     "metadata": {},
     "output_type": "execute_result"
    }
   ],
   "source": [
    "state_wise_data"
   ]
  },
  {
   "cell_type": "code",
   "execution_count": 35,
   "id": "b744f8e4-4b64-4987-9d5e-a4b9bef8d008",
   "metadata": {},
   "outputs": [],
   "source": [
    "state_wise_data = {\n",
    "    8: True,\n",
    "    \"Maharashtra\":500,\n",
    "    \"UP\":300\n",
    "}"
   ]
  },
  {
   "cell_type": "code",
   "execution_count": 38,
   "id": "03b5d508-1428-4181-a8b4-558f1e9bc432",
   "metadata": {},
   "outputs": [
    {
     "data": {
      "text/plain": [
       "{'Delhi': 1000, 'Maharashtra': 500, 'UP': 100}"
      ]
     },
     "execution_count": 38,
     "metadata": {},
     "output_type": "execute_result"
    }
   ],
   "source": [
    "state_wise_data"
   ]
  },
  {
   "cell_type": "code",
   "execution_count": 43,
   "id": "dd1d1392-75c5-48f0-9243-c49f0ed145de",
   "metadata": {},
   "outputs": [
    {
     "data": {
      "text/plain": [
       "'Not found'"
      ]
     },
     "execution_count": 43,
     "metadata": {},
     "output_type": "execute_result"
    }
   ],
   "source": [
    "state_wise_data.get(\"MP\",\"Not found\")"
   ]
  },
  {
   "cell_type": "code",
   "execution_count": 49,
   "id": "380cd71a-0b66-4dd6-9f80-16b5b45d3df5",
   "metadata": {},
   "outputs": [
    {
     "data": {
      "text/plain": [
       "'Not found'"
      ]
     },
     "execution_count": 49,
     "metadata": {},
     "output_type": "execute_result"
    }
   ],
   "source": [
    "state_wise_data.pop(\"UP\",\"Not found\")"
   ]
  },
  {
   "cell_type": "code",
   "execution_count": 50,
   "id": "5f7bd2ba-da6a-442e-9e17-09c9636ec962",
   "metadata": {},
   "outputs": [
    {
     "data": {
      "text/plain": [
       "{'Delhi': 1000, 'Maharashtra': 500}"
      ]
     },
     "execution_count": 50,
     "metadata": {},
     "output_type": "execute_result"
    }
   ],
   "source": [
    "state_wise_data"
   ]
  },
  {
   "cell_type": "code",
   "execution_count": 51,
   "id": "b23b6cbd-d3e1-46d6-9ce9-5f166b09579f",
   "metadata": {},
   "outputs": [
    {
     "data": {
      "text/plain": [
       "('Maharashtra', 500)"
      ]
     },
     "execution_count": 51,
     "metadata": {},
     "output_type": "execute_result"
    }
   ],
   "source": [
    "state_wise_data.popitem()"
   ]
  },
  {
   "cell_type": "code",
   "execution_count": 52,
   "id": "11ee9bf7-d3bd-43b6-aff0-d1444c43b648",
   "metadata": {},
   "outputs": [
    {
     "data": {
      "text/plain": [
       "{'Delhi': 1000}"
      ]
     },
     "execution_count": 52,
     "metadata": {},
     "output_type": "execute_result"
    }
   ],
   "source": [
    "state_wise_data"
   ]
  },
  {
   "cell_type": "code",
   "execution_count": 53,
   "id": "a7bc448d-cf46-4b46-9782-ba148c45d245",
   "metadata": {},
   "outputs": [],
   "source": [
    "del state_wise_data[\"Delhi\"]"
   ]
  },
  {
   "cell_type": "code",
   "execution_count": 54,
   "id": "732a346e-b8cf-4dad-a334-179baff746ba",
   "metadata": {},
   "outputs": [
    {
     "data": {
      "text/plain": [
       "{}"
      ]
     },
     "execution_count": 54,
     "metadata": {},
     "output_type": "execute_result"
    }
   ],
   "source": [
    "state_wise_data"
   ]
  },
  {
   "cell_type": "code",
   "execution_count": 55,
   "id": "751c1659-eb7c-417b-989a-4a28c4f8041e",
   "metadata": {},
   "outputs": [],
   "source": [
    "x = 6"
   ]
  },
  {
   "cell_type": "code",
   "execution_count": 56,
   "id": "8a9b32b8-1ab7-4af1-b8f1-98099fdd58de",
   "metadata": {},
   "outputs": [
    {
     "data": {
      "text/plain": [
       "6"
      ]
     },
     "execution_count": 56,
     "metadata": {},
     "output_type": "execute_result"
    }
   ],
   "source": [
    "x"
   ]
  },
  {
   "cell_type": "code",
   "execution_count": 57,
   "id": "b684749b-8158-42e1-b941-3b4e63f1b54a",
   "metadata": {},
   "outputs": [],
   "source": [
    "del x"
   ]
  },
  {
   "cell_type": "code",
   "execution_count": 60,
   "id": "f9c623ea-8c7c-4d19-a2d7-1da7a85098d9",
   "metadata": {},
   "outputs": [
    {
     "data": {
      "text/plain": [
       "{'Delhi': 1000, 'Maharashtra': 500, 'UP': 100}"
      ]
     },
     "execution_count": 60,
     "metadata": {},
     "output_type": "execute_result"
    }
   ],
   "source": [
    "state_wise_data"
   ]
  },
  {
   "cell_type": "code",
   "execution_count": 64,
   "id": "14d6495e-33df-471a-b446-d4d053984a52",
   "metadata": {},
   "outputs": [
    {
     "data": {
      "text/plain": [
       "dict_keys(['Delhi', 'Maharashtra', 'UP'])"
      ]
     },
     "execution_count": 64,
     "metadata": {},
     "output_type": "execute_result"
    }
   ],
   "source": [
    "state_wise_data.keys()"
   ]
  },
  {
   "cell_type": "code",
   "execution_count": 62,
   "id": "5252f4a9-79da-49f3-99c8-d3b4ad38e3a5",
   "metadata": {},
   "outputs": [
    {
     "data": {
      "text/plain": [
       "dict_values([1000, 500, 100])"
      ]
     },
     "execution_count": 62,
     "metadata": {},
     "output_type": "execute_result"
    }
   ],
   "source": [
    "state_wise_data.values()"
   ]
  },
  {
   "cell_type": "code",
   "execution_count": 65,
   "id": "96626204-7b68-49ad-8d2a-2695d40fa237",
   "metadata": {},
   "outputs": [
    {
     "data": {
      "text/plain": [
       "dict_items([('Delhi', 1000), ('Maharashtra', 500), ('UP', 100)])"
      ]
     },
     "execution_count": 65,
     "metadata": {},
     "output_type": "execute_result"
    }
   ],
   "source": [
    "state_wise_data.items()"
   ]
  },
  {
   "cell_type": "raw",
   "id": "3f5c78a5-22da-4144-b7ad-070dd2f0796a",
   "metadata": {},
   "source": [
    "Question 1 - \n",
    "Given two dictionaries A and B, \n",
    "Write a python program to merge these dictionaries.\n",
    "\n",
    "Example -\n",
    "A = {\n",
    "    \"a\" : 4,\n",
    "    \"b\" : 5,\n",
    "    \"c\" : 6\n",
    "}\n",
    "\n",
    "B = {\n",
    "    \"b\" : 1,\n",
    "    \"d\" : 20\n",
    "}\n",
    "\n",
    "Result = {\n",
    "    \"a\" : 4,\n",
    "    \"b\" : 1,\n",
    "    \"c\" : 6,\n",
    "    \"d\" : 20\n",
    "}\n",
    "'''"
   ]
  },
  {
   "cell_type": "code",
   "execution_count": 70,
   "id": "a906b920-6e7c-4d1e-bb1d-49ef92de7740",
   "metadata": {},
   "outputs": [],
   "source": [
    "A = {\n",
    "    \"a\" : 4,\n",
    "    \"b\" : 5,\n",
    "    \"c\" : 6\n",
    "}"
   ]
  },
  {
   "cell_type": "code",
   "execution_count": 67,
   "id": "a79e9770-333f-46c8-950a-ab01ec3328b3",
   "metadata": {},
   "outputs": [],
   "source": [
    "B = {\n",
    "    \"b\" : 1,\n",
    "    \"d\" : 20\n",
    "}"
   ]
  },
  {
   "cell_type": "code",
   "execution_count": 68,
   "id": "7d303206-2965-4ac3-bcc1-b9455a25b096",
   "metadata": {},
   "outputs": [],
   "source": [
    "A.update(B)"
   ]
  },
  {
   "cell_type": "code",
   "execution_count": 69,
   "id": "1367da8e-8232-4998-af39-2eeeb5f88414",
   "metadata": {},
   "outputs": [
    {
     "data": {
      "text/plain": [
       "{'a': 4, 'b': 1, 'c': 6, 'd': 20}"
      ]
     },
     "execution_count": 69,
     "metadata": {},
     "output_type": "execute_result"
    }
   ],
   "source": [
    "A"
   ]
  },
  {
   "cell_type": "code",
   "execution_count": 71,
   "id": "5ebaf645-c114-447a-9944-b6660417a315",
   "metadata": {},
   "outputs": [
    {
     "data": {
      "text/plain": [
       "{'a': 4, 'b': 5, 'c': 6}"
      ]
     },
     "execution_count": 71,
     "metadata": {},
     "output_type": "execute_result"
    }
   ],
   "source": [
    "A"
   ]
  },
  {
   "cell_type": "code",
   "execution_count": 72,
   "id": "70b6fa28-bcd1-4839-bdfa-13eb97177cbd",
   "metadata": {},
   "outputs": [
    {
     "data": {
      "text/plain": [
       "{'b': 1, 'd': 20}"
      ]
     },
     "execution_count": 72,
     "metadata": {},
     "output_type": "execute_result"
    }
   ],
   "source": [
    "B"
   ]
  },
  {
   "cell_type": "code",
   "execution_count": 73,
   "id": "5a821625-15ed-470c-91ae-c2f22ed22e89",
   "metadata": {},
   "outputs": [
    {
     "data": {
      "text/plain": [
       "{'a': 4, 'b': 1, 'c': 6, 'd': 20}"
      ]
     },
     "execution_count": 73,
     "metadata": {},
     "output_type": "execute_result"
    }
   ],
   "source": [
    "A | B"
   ]
  },
  {
   "cell_type": "code",
   "execution_count": 74,
   "id": "7907b3a1-2084-4c0a-a3a2-74b519c8995a",
   "metadata": {},
   "outputs": [
    {
     "data": {
      "text/plain": [
       "{'b': 5, 'd': 20, 'a': 4, 'c': 6}"
      ]
     },
     "execution_count": 74,
     "metadata": {},
     "output_type": "execute_result"
    }
   ],
   "source": [
    "B | A"
   ]
  },
  {
   "cell_type": "code",
   "execution_count": 75,
   "id": "5e1d55bd-1307-41b9-8953-bd9dfb245270",
   "metadata": {},
   "outputs": [
    {
     "data": {
      "text/plain": [
       "{'Delhi': 1000, 'Maharashtra': 500, 'UP': 100}"
      ]
     },
     "execution_count": 75,
     "metadata": {},
     "output_type": "execute_result"
    }
   ],
   "source": [
    "state_wise_data"
   ]
  },
  {
   "cell_type": "code",
   "execution_count": 76,
   "id": "6c3a71ce-d09c-4954-b878-0a14d17c084c",
   "metadata": {},
   "outputs": [
    {
     "name": "stdout",
     "output_type": "stream",
     "text": [
      "Delhi\n",
      "Maharashtra\n",
      "UP\n"
     ]
    }
   ],
   "source": [
    "for i in state_wise_data:\n",
    "    print(i)"
   ]
  },
  {
   "cell_type": "code",
   "execution_count": 77,
   "id": "d59f411f-b093-42c5-8b14-cfcda9aa267f",
   "metadata": {},
   "outputs": [
    {
     "name": "stdout",
     "output_type": "stream",
     "text": [
      "1000\n",
      "500\n",
      "100\n"
     ]
    }
   ],
   "source": [
    "for i in state_wise_data:\n",
    "    print(state_wise_data[i])"
   ]
  },
  {
   "cell_type": "code",
   "execution_count": 78,
   "id": "ea39da67-48ba-44f5-b690-1b853ee9a61e",
   "metadata": {},
   "outputs": [
    {
     "name": "stdout",
     "output_type": "stream",
     "text": [
      "Delhi\n",
      "Maharashtra\n",
      "UP\n"
     ]
    }
   ],
   "source": [
    "for i in state_wise_data.keys():\n",
    "    print(i)"
   ]
  },
  {
   "cell_type": "code",
   "execution_count": 79,
   "id": "4f624b27-467c-48d6-8967-779ecfadda37",
   "metadata": {},
   "outputs": [
    {
     "name": "stdout",
     "output_type": "stream",
     "text": [
      "1000\n",
      "500\n",
      "100\n"
     ]
    }
   ],
   "source": [
    "for i in state_wise_data.values():\n",
    "    print(i)"
   ]
  },
  {
   "cell_type": "code",
   "execution_count": 83,
   "id": "bc359dd3-faab-4fae-8c2b-7e5359e0cefa",
   "metadata": {},
   "outputs": [
    {
     "name": "stdout",
     "output_type": "stream",
     "text": [
      "Delhi 1000\n",
      "Maharashtra 500\n",
      "UP 100\n"
     ]
    }
   ],
   "source": [
    "for key,value in state_wise_data.items():\n",
    "    print(key,value)"
   ]
  },
  {
   "cell_type": "code",
   "execution_count": 84,
   "id": "1c3e9507-467d-4c15-b199-d3e921cb89dd",
   "metadata": {},
   "outputs": [
    {
     "data": {
      "text/plain": [
       "'\\nQuestion 2 - \\n1. Take a string as input.\\n2. Create a dictionary acc to the following criteria - \\n- There will be one key value pair for each unique character - \\n- Key will be character and value will be the count of character inside the string\\n\\nINPUT - \"rrsssstttt\"\\nOUTPUT -\\n{\\n    \"r\": 2,\\n    \"s\": 4,\\n    \"t\": 4\\n}\\n'"
      ]
     },
     "execution_count": 84,
     "metadata": {},
     "output_type": "execute_result"
    }
   ],
   "source": [
    "'''\n",
    "Question 2 - \n",
    "1. Take a string as input.\n",
    "2. Create a dictionary acc to the following criteria - \n",
    "- There will be one key value pair for each unique character - \n",
    "- Key will be character and value will be the count of character inside the string\n",
    "\n",
    "INPUT - \"rrsssstttt\"\n",
    "OUTPUT -\n",
    "{\n",
    "    \"r\": 2,\n",
    "    \"s\": 4,\n",
    "    \"t\": 4\n",
    "}\n",
    "'''"
   ]
  },
  {
   "cell_type": "code",
   "execution_count": 134,
   "id": "4b8e5f75-d6d7-473c-bfb0-2b1a637d74c9",
   "metadata": {},
   "outputs": [],
   "source": [
    "def character_count(strrrr):\n",
    "    result = {}\n",
    "    unique_char = set(strrrr)\n",
    "    for i in unique_char:\n",
    "        result[i] = strrrr.count(i)\n",
    "    return result"
   ]
  },
  {
   "cell_type": "code",
   "execution_count": 135,
   "id": "7ab4c410-f15a-4159-a207-1e324a40996c",
   "metadata": {},
   "outputs": [
    {
     "data": {
      "text/plain": [
       "{'t': 2, 'u': 4, 'v': 4}"
      ]
     },
     "execution_count": 135,
     "metadata": {},
     "output_type": "execute_result"
    }
   ],
   "source": [
    "character_count(\"ttuuuuvvvv\")"
   ]
  },
  {
   "cell_type": "code",
   "execution_count": 136,
   "id": "cbac2e41-4260-474f-9fa7-294e0d13d2e6",
   "metadata": {},
   "outputs": [
    {
     "data": {
      "text/plain": [
       "{'r', 's', 't', 'z'}"
      ]
     },
     "execution_count": 136,
     "metadata": {},
     "output_type": "execute_result"
    }
   ],
   "source": [
    "set(\"rrssssttttzzzzzz\")"
   ]
  },
  {
   "cell_type": "code",
   "execution_count": 137,
   "id": "268dc9b9-790b-48d6-8f60-581b7d117655",
   "metadata": {},
   "outputs": [],
   "source": [
    "# Create a function that merges two dictionaries. If there are duplicate keys, sum their values.\n",
    "dict1 = {'a': 1, 'b': 2}\n",
    "dict2 = {'b': 3, 'c': 4}\n",
    "# {'a': 1, 'b': 5, 'c': 4}"
   ]
  },
  {
   "cell_type": "code",
   "execution_count": 138,
   "id": "b641e217-37a6-499a-bda9-06cdd428217d",
   "metadata": {},
   "outputs": [],
   "source": [
    "def merger_dictionary(dict1,dict2):\n",
    "    dict1_copy = dict1.copy()\n",
    "    for key,value in dict2.items():\n",
    "        if key in dict1_copy:\n",
    "            dict1_copy[key] += value\n",
    "        else:\n",
    "            dict1_copy[key] = value\n",
    "    return dict1_copy"
   ]
  },
  {
   "cell_type": "code",
   "execution_count": 139,
   "id": "3cede267-b4b0-4996-86b3-f69af3cec423",
   "metadata": {},
   "outputs": [
    {
     "data": {
      "text/plain": [
       "{'a': 1, 'b': 5, 'c': 4}"
      ]
     },
     "execution_count": 139,
     "metadata": {},
     "output_type": "execute_result"
    }
   ],
   "source": [
    "merger_dictionary(dict1,dict2)"
   ]
  },
  {
   "cell_type": "code",
   "execution_count": 140,
   "id": "fe7e9725-39b4-4c95-b7d8-c9f78e267615",
   "metadata": {},
   "outputs": [
    {
     "data": {
      "text/plain": [
       "'\\nCreate a function that inverts a given dictionary. \\nThe keys become values and the values become keys. \\nAssume all values are unique.\\n'"
      ]
     },
     "execution_count": 140,
     "metadata": {},
     "output_type": "execute_result"
    }
   ],
   "source": [
    "'''\n",
    "Create a function that inverts a given dictionary. \n",
    "The keys become values and the values become keys. \n",
    "Assume all values are unique.\n",
    "'''"
   ]
  },
  {
   "cell_type": "code",
   "execution_count": 141,
   "id": "1fb782c6-84f9-4b28-b038-f5ed1b60f3e2",
   "metadata": {},
   "outputs": [],
   "source": [
    "def inverted_dict(dict1):\n",
    "    d_new = {}\n",
    "    for key,value in dict1.items():\n",
    "        d_new[value] = key\n",
    "    return d_new"
   ]
  },
  {
   "cell_type": "code",
   "execution_count": 142,
   "id": "ffda19c2-3099-470d-8012-48d249b56ca6",
   "metadata": {},
   "outputs": [
    {
     "data": {
      "text/plain": [
       "{1: 'a', 2: 'b'}"
      ]
     },
     "execution_count": 142,
     "metadata": {},
     "output_type": "execute_result"
    }
   ],
   "source": [
    "inverted_dict(dict1)"
   ]
  },
  {
   "cell_type": "code",
   "execution_count": 143,
   "id": "a27c2877-6e09-434d-a3af-6d590ca11f6e",
   "metadata": {},
   "outputs": [
    {
     "data": {
      "text/plain": [
       "{'a': 1, 'b': 2}"
      ]
     },
     "execution_count": 143,
     "metadata": {},
     "output_type": "execute_result"
    }
   ],
   "source": [
    "dict1"
   ]
  },
  {
   "cell_type": "code",
   "execution_count": 144,
   "id": "9f556260-b784-468c-b635-fe61b383fd84",
   "metadata": {},
   "outputs": [],
   "source": [
    "def inverted_dict2(dict1):\n",
    "    return {value:key for key,value in dict1.items()}"
   ]
  },
  {
   "cell_type": "code",
   "execution_count": 145,
   "id": "68e4f4af-b065-4a60-b8fd-77e285c0298b",
   "metadata": {},
   "outputs": [
    {
     "data": {
      "text/plain": [
       "{1: 'a', 2: 'b'}"
      ]
     },
     "execution_count": 145,
     "metadata": {},
     "output_type": "execute_result"
    }
   ],
   "source": [
    "inverted_dict2(dict1)"
   ]
  },
  {
   "cell_type": "code",
   "execution_count": 147,
   "id": "a47f161d-19e6-4c99-8d3a-b8ac4f6f3a2f",
   "metadata": {},
   "outputs": [
    {
     "data": {
      "text/plain": [
       "'\\nWrite a function that takes a list of strings and groups them into anagrams. \\nReturn a list of lists, where each inner list contains words that are anagrams of each other.\\n[\"eat\", \"tea\", \"tan\", \"ate\", \"nat\", \"bat\"]\\n\\noutput = [[\\'eat\\', \\'tea\\', \\'ate\\'], [\\'tan\\', \\'nat\\'], [\\'bat\\']]\\n'"
      ]
     },
     "execution_count": 147,
     "metadata": {},
     "output_type": "execute_result"
    }
   ],
   "source": [
    "'''\n",
    "Write a function that takes a list of strings and groups them into anagrams. \n",
    "Return a list of lists, where each inner list contains words that are anagrams of each other.\n",
    "[\"eat\", \"tea\", \"tan\", \"ate\", \"nat\", \"bat\"]\n",
    "\n",
    "output = [['eat', 'tea', 'ate'], ['tan', 'nat'], ['bat']]\n",
    "'''"
   ]
  },
  {
   "cell_type": "code",
   "execution_count": 162,
   "id": "b0b0beac-7d62-4e4d-96d9-b57dd040cd21",
   "metadata": {},
   "outputs": [],
   "source": [
    "def group_anagrams(words):\n",
    "    anagrams = {}\n",
    "    for word in words:\n",
    "        key = tuple(sorted(word))\n",
    "        if key in anagrams:\n",
    "            anagrams[key].append(word)\n",
    "        else:\n",
    "            anagrams[key] = [word]\n",
    "    return list(anagrams.values())"
   ]
  },
  {
   "cell_type": "code",
   "execution_count": 163,
   "id": "5ae45894-539b-44fd-8263-49f7cded245c",
   "metadata": {},
   "outputs": [
    {
     "data": {
      "text/plain": [
       "[['eat', 'tea', 'ate'], ['tan', 'nat'], ['bat']]"
      ]
     },
     "execution_count": 163,
     "metadata": {},
     "output_type": "execute_result"
    }
   ],
   "source": [
    "group_anagrams([\"eat\", \"tea\", \"tan\", \"ate\", \"nat\", \"bat\"])"
   ]
  },
  {
   "cell_type": "code",
   "execution_count": 17,
   "id": "488e5329-da0f-4a19-8a78-159804c6ff67",
   "metadata": {},
   "outputs": [
    {
     "name": "stdout",
     "output_type": "stream",
     "text": [
      "[2, 3]\n"
     ]
    }
   ],
   "source": [
    "print(find_duplicates([4, 3, 2, 7, 8, 2,2,2,2, 3,3,3,3, 1]))  # Output: [2, 3]"
   ]
  },
  {
   "cell_type": "code",
   "execution_count": 16,
   "id": "64dcb026-bc4b-4758-9a43-14ba1a6daadf",
   "metadata": {},
   "outputs": [],
   "source": [
    "def find_duplicates(list1):\n",
    "    count = {}\n",
    "    duplicates = []\n",
    "    for num in list1:\n",
    "        if num in count:\n",
    "            duplicates.append(num)\n",
    "        else:\n",
    "            count[num] = 1\n",
    "    return list(set(duplicates))"
   ]
  },
  {
   "cell_type": "code",
   "execution_count": 20,
   "id": "25feaf7a-9229-46ba-a3a3-97e8d658e47e",
   "metadata": {},
   "outputs": [
    {
     "data": {
      "text/plain": [
       "1"
      ]
     },
     "execution_count": 20,
     "metadata": {},
     "output_type": "execute_result"
    }
   ],
   "source": [
    "[4, 3, 2, 7, 8, 2,2,2,2, 3,3,3,3, 1].count(4)"
   ]
  },
  {
   "cell_type": "code",
   "execution_count": 21,
   "id": "76a38c1c-eb64-4c0d-ac80-94613d4e125a",
   "metadata": {},
   "outputs": [],
   "source": [
    "# Combining first and last names into full names:\n",
    "first_names = [\"John\", \"Jane\", \"Jim\"]\n",
    "last_names = [\"Doe\", \"Smith\", \"Beam\"]\n",
    "# Output: [\"John Doe\", \"Jane Smith\", \"Jim Beam\"]"
   ]
  },
  {
   "cell_type": "code",
   "execution_count": 25,
   "id": "5db5d619-8247-4c8d-9c4f-6660c48d9122",
   "metadata": {},
   "outputs": [],
   "source": [
    "def concat_names(first_names,last_names):\n",
    "    full_name = []\n",
    "    for i in range(len(first_names)):\n",
    "        full_name.append(first_names[i]+\" \"+last_names[i])\n",
    "    return full_name"
   ]
  },
  {
   "cell_type": "code",
   "execution_count": 26,
   "id": "fe6a1885-8afd-45ef-80f1-486cbc82f28c",
   "metadata": {},
   "outputs": [
    {
     "data": {
      "text/plain": [
       "['John Doe', 'Jane Smith', 'Jim Beam']"
      ]
     },
     "execution_count": 26,
     "metadata": {},
     "output_type": "execute_result"
    }
   ],
   "source": [
    "concat_names(first_names,last_names)"
   ]
  },
  {
   "cell_type": "code",
   "execution_count": 28,
   "id": "1bbf00f1-d22b-48f0-bbfe-0d44375e2de8",
   "metadata": {},
   "outputs": [
    {
     "data": {
      "text/plain": [
       "['John Doe', 'Jane Smith', 'Jim Beam']"
      ]
     },
     "execution_count": 28,
     "metadata": {},
     "output_type": "execute_result"
    }
   ],
   "source": [
    "list(map(lambda x,y:f\"{x} {y}\",first_names,last_names))"
   ]
  },
  {
   "cell_type": "code",
   "execution_count": 29,
   "id": "33a1812f-6f08-4e89-ba97-18029f30eb92",
   "metadata": {},
   "outputs": [],
   "source": [
    "original = {\"a\": 1, \"b\": 2, \"c\": 3}\n",
    "# Output: {'a': 2, 'b': 4, 'c': 6}"
   ]
  },
  {
   "cell_type": "code",
   "execution_count": 32,
   "id": "1795d551-25dd-4ee7-8aa3-70dd3da55372",
   "metadata": {},
   "outputs": [],
   "source": [
    "def double_keys(dict1):\n",
    "    return {key:value*2 for key,value in dict1.items()}"
   ]
  },
  {
   "cell_type": "code",
   "execution_count": 33,
   "id": "4f919f3c-1055-4bd7-af17-978ec2ac49aa",
   "metadata": {},
   "outputs": [
    {
     "data": {
      "text/plain": [
       "{'a': 2, 'b': 4, 'c': 6}"
      ]
     },
     "execution_count": 33,
     "metadata": {},
     "output_type": "execute_result"
    }
   ],
   "source": [
    "double_keys(original)"
   ]
  },
  {
   "cell_type": "code",
   "execution_count": 35,
   "id": "9e594377-4a82-43f8-b173-ceaddb4f7edd",
   "metadata": {},
   "outputs": [],
   "source": [
    "doubled = {key:value*2 for key,value in original.items()}"
   ]
  },
  {
   "cell_type": "code",
   "execution_count": 36,
   "id": "7521813f-fc88-46c2-9471-6f49666be572",
   "metadata": {},
   "outputs": [
    {
     "data": {
      "text/plain": [
       "{'a': 2, 'b': 4, 'c': 6}"
      ]
     },
     "execution_count": 36,
     "metadata": {},
     "output_type": "execute_result"
    }
   ],
   "source": [
    "doubled"
   ]
  },
  {
   "cell_type": "code",
   "execution_count": null,
   "id": "2dba7b8b-60d7-4a3a-a4f2-45b7f4a9b085",
   "metadata": {},
   "outputs": [],
   "source": []
  }
 ],
 "metadata": {
  "kernelspec": {
   "display_name": "Python 3 (ipykernel)",
   "language": "python",
   "name": "python3"
  },
  "language_info": {
   "codemirror_mode": {
    "name": "ipython",
    "version": 3
   },
   "file_extension": ".py",
   "mimetype": "text/x-python",
   "name": "python",
   "nbconvert_exporter": "python",
   "pygments_lexer": "ipython3",
   "version": "3.11.2"
  }
 },
 "nbformat": 4,
 "nbformat_minor": 5
}
