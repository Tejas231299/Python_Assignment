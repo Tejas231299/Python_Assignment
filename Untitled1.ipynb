{
 "cells": [
  {
   "cell_type": "code",
   "execution_count": 1,
   "id": "ba92fcf3-b045-4a3b-b7cc-2cd882c29e38",
   "metadata": {},
   "outputs": [
    {
     "name": "stdout",
     "output_type": "stream",
     "text": [
      "\n"
     ]
    }
   ],
   "source": [
    "##############     NEW    TOIPC   ##################################"
   ]
  },
  {
   "cell_type": "code",
   "execution_count": null,
   "id": "24cdb555-375b-47e1-b492-8928fa118cb8",
   "metadata": {},
   "outputs": [],
   "source": [
    "print()"
   ]
  },
  {
   "cell_type": "code",
   "execution_count": 15,
   "id": "9810fcb9-70d7-49df-85c6-bc0161a729e2",
   "metadata": {},
   "outputs": [],
   "source": [
    "def guest_arrive():   ## defining \n",
    "    print(\"dust all the rooms and others\")"
   ]
  },
  {
   "cell_type": "code",
   "execution_count": 17,
   "id": "85ed3c1e-bd57-438f-b336-45f814f9628c",
   "metadata": {},
   "outputs": [
    {
     "name": "stdout",
     "output_type": "stream",
     "text": [
      "dust all the rooms and others\n"
     ]
    }
   ],
   "source": [
    "guest_arrive()  ## calling function "
   ]
  },
  {
   "cell_type": "code",
   "execution_count": 27,
   "id": "43664423-2624-4077-b57b-b8867c2e284f",
   "metadata": {},
   "outputs": [],
   "source": [
    "def lets_play_games():\n",
    "    print(\"not right now after sometime\")"
   ]
  },
  {
   "cell_type": "code",
   "execution_count": 33,
   "id": "80977d82-f437-4cd2-ae51-37a6ef4fc3c9",
   "metadata": {},
   "outputs": [
    {
     "name": "stdout",
     "output_type": "stream",
     "text": [
      "not right now after sometime\n"
     ]
    }
   ],
   "source": [
    "lets_play_games()"
   ]
  },
  {
   "cell_type": "code",
   "execution_count": 39,
   "id": "fd77aa54-4fe3-4591-9f1e-3c5a952f2ec3",
   "metadata": {},
   "outputs": [],
   "source": [
    "def greeter(name):\n",
    "    print(\"Hello\",name,end=\"!\")"
   ]
  },
  {
   "cell_type": "code",
   "execution_count": 45,
   "id": "083e6c90-a4f1-49c8-8b8b-127abed7462e",
   "metadata": {},
   "outputs": [
    {
     "name": "stdout",
     "output_type": "stream",
     "text": [
      "Hello tejas!"
     ]
    }
   ],
   "source": [
    "greeter(\"tejas\")"
   ]
  },
  {
   "cell_type": "code",
   "execution_count": 53,
   "id": "6e7cf5ad-2f1e-4930-82d1-16d3caf0d53a",
   "metadata": {},
   "outputs": [
    {
     "name": "stdin",
     "output_type": "stream",
     "text": [
      " tejas.\n"
     ]
    },
    {
     "name": "stdout",
     "output_type": "stream",
     "text": [
      "Hello tejas.!"
     ]
    }
   ],
   "source": [
    "name = input()\n",
    "greeter(name)\n"
   ]
  },
  {
   "cell_type": "code",
   "execution_count": 55,
   "id": "ee5c7a06-9f94-4a8c-a6d0-0880b2255722",
   "metadata": {},
   "outputs": [],
   "source": [
    "def intro_family(fat,mot,sib):\n",
    "    print(\"father >>\",fat)\n",
    "    print(\"mother >>\",mot)\n",
    "    print(\"sibling >>\",sib)"
   ]
  },
  {
   "cell_type": "code",
   "execution_count": 59,
   "id": "a6650f9f-095e-4585-9802-cd5235f6cc32",
   "metadata": {},
   "outputs": [
    {
     "name": "stdout",
     "output_type": "stream",
     "text": [
      "father >> sanjay\n",
      "mother >> kiran\n",
      "sibling >> boom\n"
     ]
    }
   ],
   "source": [
    "intro_family(\"sanjay\",\"kiran\",\"boom\")"
   ]
  },
  {
   "cell_type": "code",
   "execution_count": 71,
   "id": "36972576-5702-4c8b-9141-18503f634104",
   "metadata": {},
   "outputs": [
    {
     "name": "stdout",
     "output_type": "stream",
     "text": [
      "father >> sanjay\n",
      "mother >> kiran\n",
      "sibling >> boom\n"
     ]
    }
   ],
   "source": [
    "intro_family(mot=\"kiran\",fat=\"sanjay\",sib=\"boom\")"
   ]
  },
  {
   "cell_type": "code",
   "execution_count": 75,
   "id": "5f9c2d98-a1e9-4f18-9a4a-cd8bbc5dec3a",
   "metadata": {},
   "outputs": [
    {
     "name": "stdout",
     "output_type": "stream",
     "text": [
      "father >> sanjay\n",
      "mother >> kiran\n",
      "sibling >> boom\n"
     ]
    }
   ],
   "source": [
    "intro_family(\"sanjay\",\"kiran\",sib=\"boom\")"
   ]
  },
  {
   "cell_type": "code",
   "execution_count": 85,
   "id": "fb75902f-eab8-4442-8c22-1e3dab2cabe7",
   "metadata": {},
   "outputs": [
    {
     "ename": "SyntaxError",
     "evalue": "positional argument follows keyword argument (251989158.py, line 1)",
     "output_type": "error",
     "traceback": [
      "\u001b[1;36m  Cell \u001b[1;32mIn[85], line 1\u001b[1;36m\u001b[0m\n\u001b[1;33m    intro_family(fat=\"sanjay\",\"kiran\",\"boom\")\u001b[0m\n\u001b[1;37m                                            ^\u001b[0m\n\u001b[1;31mSyntaxError\u001b[0m\u001b[1;31m:\u001b[0m positional argument follows keyword argument\n"
     ]
    }
   ],
   "source": [
    "intro_family(fat=\"sanjay\",\"kiran\",\"boom\")"
   ]
  },
  {
   "cell_type": "code",
   "execution_count": 87,
   "id": "1e845982-5670-4b62-9312-54fe94cf77ce",
   "metadata": {},
   "outputs": [
    {
     "name": "stdout",
     "output_type": "stream",
     "text": [
      "father >> sanjay\n",
      "mother >> kiran\n",
      "sibling >> boom\n"
     ]
    }
   ],
   "source": [
    "intro_family(\"sanjay\",mot=\"kiran\",sib=\"boom\")"
   ]
  },
  {
   "cell_type": "code",
   "execution_count": 101,
   "id": "ef7525af-74d8-47b7-b43d-e7f121529b05",
   "metadata": {},
   "outputs": [],
   "source": [
    "def intro_family(fat=\"NA\",mot=\"NA\",sib=\"NA\"):\n",
    "    '''\n",
    "    this function will take 3 arguments as input\n",
    "    about family\n",
    "    and assign them to print their names with the relationships\n",
    "    '''\n",
    "    print(\"father >>\",fat)\n",
    "    print(\"mother >>\",mot)\n",
    "    print(\"sibling >>\",sib)"
   ]
  },
  {
   "cell_type": "code",
   "execution_count": 99,
   "id": "8ef0d607-26ef-4d33-86b5-0d8f836abd40",
   "metadata": {},
   "outputs": [
    {
     "name": "stdout",
     "output_type": "stream",
     "text": [
      "father >> sanjay\n",
      "mother >> kiran\n",
      "sibling >> NA\n"
     ]
    }
   ],
   "source": [
    "intro_family(\"sanjay\",\"kiran\")"
   ]
  },
  {
   "cell_type": "code",
   "execution_count": 105,
   "id": "5e74eb62-2947-4d9f-a239-420e64bf270e",
   "metadata": {},
   "outputs": [
    {
     "name": "stdout",
     "output_type": "stream",
     "text": [
      "Help on function intro_family in module __main__:\n",
      "\n",
      "intro_family(fat='NA', mot='NA', sib='NA')\n",
      "    this function will take 3 arguments as input\n",
      "    about family\n",
      "    and assign them to print their names with the relationships\n",
      "\n"
     ]
    }
   ],
   "source": [
    "help(intro_family)"
   ]
  },
  {
   "cell_type": "code",
   "execution_count": 109,
   "id": "7f55123a-9a4c-46f3-ab5e-c0d0ee1e3564",
   "metadata": {},
   "outputs": [
    {
     "data": {
      "text/plain": [
       "\u001b[1;31mSignature:\u001b[0m \u001b[0mintro_family\u001b[0m\u001b[1;33m(\u001b[0m\u001b[0mfat\u001b[0m\u001b[1;33m=\u001b[0m\u001b[1;34m'NA'\u001b[0m\u001b[1;33m,\u001b[0m \u001b[0mmot\u001b[0m\u001b[1;33m=\u001b[0m\u001b[1;34m'NA'\u001b[0m\u001b[1;33m,\u001b[0m \u001b[0msib\u001b[0m\u001b[1;33m=\u001b[0m\u001b[1;34m'NA'\u001b[0m\u001b[1;33m)\u001b[0m\u001b[1;33m\u001b[0m\u001b[1;33m\u001b[0m\u001b[0m\n",
       "\u001b[1;31mDocstring:\u001b[0m\n",
       "this function will take 3 arguments as input\n",
       "about family\n",
       "and assign them to print their names with the relationships\n",
       "\u001b[1;31mFile:\u001b[0m      c:\\users\\tejas\\appdata\\local\\temp\\ipykernel_6744\\1312736976.py\n",
       "\u001b[1;31mType:\u001b[0m      function"
      ]
     },
     "metadata": {},
     "output_type": "display_data"
    }
   ],
   "source": [
    "intro_family?"
   ]
  },
  {
   "cell_type": "code",
   "execution_count": 113,
   "id": "a3bcc40e-04a3-4f1b-a9b3-167d21a69e47",
   "metadata": {},
   "outputs": [
    {
     "ename": "SyntaxError",
     "evalue": "expected '(' (2379250423.py, line 6)",
     "output_type": "error",
     "traceback": [
      "\u001b[1;36m  Cell \u001b[1;32mIn[113], line 6\u001b[1;36m\u001b[0m\n\u001b[1;33m    def a int(input(5)):\u001b[0m\n\u001b[1;37m          ^\u001b[0m\n\u001b[1;31mSyntaxError\u001b[0m\u001b[1;31m:\u001b[0m expected '('\n"
     ]
    }
   ],
   "source": [
    "###   two argue sum of output both argu\n",
    "\n",
    "\n",
    "##def intro_family(fat=\"NA\",mot=\"NA\",sib=\"NA\"):\n",
    "\n",
    "def a int(input(5)):\n",
    "def b int(input(10)):\n",
    "print(a+b)\n"
   ]
  },
  {
   "cell_type": "code",
   "execution_count": 116,
   "id": "0a47c236-74b8-4b13-8c82-cd01106e2ba4",
   "metadata": {},
   "outputs": [],
   "source": [
    "def sum(a,b):\n",
    "    print(a+b)"
   ]
  },
  {
   "cell_type": "code",
   "execution_count": 146,
   "id": "0f977e59-f591-41a3-ab2d-bb6fbf39112b",
   "metadata": {},
   "outputs": [
    {
     "name": "stdout",
     "output_type": "stream",
     "text": [
      "11\n"
     ]
    }
   ],
   "source": [
    "sum(5,6)"
   ]
  },
  {
   "cell_type": "code",
   "execution_count": 130,
   "id": "83800fc5-821f-46a1-bd74-fa0b73c0091c",
   "metadata": {},
   "outputs": [
    {
     "name": "stdout",
     "output_type": "stream",
     "text": [
      "11\n"
     ]
    },
    {
     "data": {
      "text/plain": [
       "NoneType"
      ]
     },
     "execution_count": 130,
     "metadata": {},
     "output_type": "execute_result"
    }
   ],
   "source": [
    "type(sum(5,6))"
   ]
  },
  {
   "cell_type": "code",
   "execution_count": 140,
   "id": "44fbb73e-b44d-474a-ad1a-23b3ceb474d2",
   "metadata": {},
   "outputs": [
    {
     "data": {
      "text/plain": [
       "'scl'"
      ]
     },
     "execution_count": 140,
     "metadata": {},
     "output_type": "execute_result"
    }
   ],
   "source": [
    "\"scl\""
   ]
  },
  {
   "cell_type": "code",
   "execution_count": 148,
   "id": "80b19e2e-510c-461d-b228-07d15d6cca4a",
   "metadata": {},
   "outputs": [
    {
     "name": "stdout",
     "output_type": "stream",
     "text": [
      "scl\n"
     ]
    }
   ],
   "source": [
    "print(\"scl\")"
   ]
  },
  {
   "cell_type": "code",
   "execution_count": 152,
   "id": "c62a34d4-0e53-4b23-8642-1f95cbef6887",
   "metadata": {},
   "outputs": [],
   "source": [
    "def sum(a,b):\n",
    "    return(a+b)\n",
    "    "
   ]
  },
  {
   "cell_type": "code",
   "execution_count": 158,
   "id": "0f1f5561-f7d7-48a3-9d43-a77797fa0e8a",
   "metadata": {},
   "outputs": [
    {
     "data": {
      "text/plain": [
       "111"
      ]
     },
     "execution_count": 158,
     "metadata": {},
     "output_type": "execute_result"
    }
   ],
   "source": [
    "sum(5,6)+100"
   ]
  },
  {
   "cell_type": "code",
   "execution_count": 166,
   "id": "9aa4f224-2628-48b4-970c-81b43c84289e",
   "metadata": {},
   "outputs": [],
   "source": [
    "def sum(a,b):\n",
    "    print(\"this will run\")\n",
    "    return(a+b)\n",
    "    print(\"this will not run\")"
   ]
  },
  {
   "cell_type": "code",
   "execution_count": 170,
   "id": "0d6de318-8dba-439b-afce-9bb140bd9ff6",
   "metadata": {},
   "outputs": [
    {
     "name": "stdout",
     "output_type": "stream",
     "text": [
      "this will run\n"
     ]
    },
    {
     "data": {
      "text/plain": [
       "11"
      ]
     },
     "execution_count": 170,
     "metadata": {},
     "output_type": "execute_result"
    }
   ],
   "source": [
    "sum(5,6)"
   ]
  },
  {
   "cell_type": "code",
   "execution_count": 172,
   "id": "078754a3-9686-454e-a3a7-cf27c8aa9dd2",
   "metadata": {},
   "outputs": [],
   "source": [
    "def max_number(a,b):\n",
    "    if a>b:\n",
    "        return a\n",
    "    else:\n",
    "        return b"
   ]
  },
  {
   "cell_type": "code",
   "execution_count": 176,
   "id": "cd7570f3-a657-4ca4-a18e-04f8e4f68518",
   "metadata": {},
   "outputs": [
    {
     "data": {
      "text/plain": [
       "8"
      ]
     },
     "execution_count": 176,
     "metadata": {},
     "output_type": "execute_result"
    }
   ],
   "source": [
    "max_number(8,6)"
   ]
  },
  {
   "cell_type": "code",
   "execution_count": 180,
   "id": "83f83285-de87-4f2d-bdd5-76713a3fda70",
   "metadata": {},
   "outputs": [
    {
     "data": {
      "text/plain": [
       "12"
      ]
     },
     "execution_count": 180,
     "metadata": {},
     "output_type": "execute_result"
    }
   ],
   "source": [
    "max_number(8,12)"
   ]
  },
  {
   "cell_type": "code",
   "execution_count": 182,
   "id": "7e950e8e-865d-404e-9055-5ee8cf7e3dab",
   "metadata": {},
   "outputs": [
    {
     "data": {
      "text/plain": [
       "'\\ncreate a date print function - \\nshould take 4 arguments -> day, month, year and style \\n\\nstyling logic - \\nstyle -> 0-> d/m/y\\nstyle -> 1 -> m/d/y\\nstyle -> any other value -> invalid style\\n    default style is 0.\\n'"
      ]
     },
     "execution_count": 182,
     "metadata": {},
     "output_type": "execute_result"
    }
   ],
   "source": [
    "##  Q1 \n",
    "'''\n",
    "create a date print function - \n",
    "should take 4 arguments -> day, month, year and style \n",
    "\n",
    "styling logic - \n",
    "style -> 0-> d/m/y\n",
    "style -> 1 -> m/d/y\n",
    "style -> any other value -> invalid style\n",
    "    default style is 0.\n",
    "'''"
   ]
  },
  {
   "cell_type": "code",
   "execution_count": 188,
   "id": "4887fd19-9dc7-4896-90d1-e0f2b0d5725e",
   "metadata": {},
   "outputs": [],
   "source": [
    "def date(d,m,y,style=0):\n",
    "    if style == 0:\n",
    "        print(d,m,y,sep =\"/\")\n",
    "    elif style == 1:\n",
    "        print(m,d,y,sep =\"/\")\n",
    "    else:\n",
    "        print(\"invalid style\")"
   ]
  },
  {
   "cell_type": "code",
   "execution_count": 21,
   "id": "8d2860bd-30a3-424a-b489-5341af0d217e",
   "metadata": {},
   "outputs": [
    {
     "ename": "NameError",
     "evalue": "name 'date' is not defined",
     "output_type": "error",
     "traceback": [
      "\u001b[1;31m---------------------------------------------------------------------------\u001b[0m",
      "\u001b[1;31mNameError\u001b[0m                                 Traceback (most recent call last)",
      "Cell \u001b[1;32mIn[21], line 1\u001b[0m\n\u001b[1;32m----> 1\u001b[0m date(\u001b[38;5;241m14\u001b[39m,\u001b[38;5;241m4\u001b[39m,\u001b[38;5;241m2025\u001b[39m,\u001b[38;5;241m1\u001b[39m)\n",
      "\u001b[1;31mNameError\u001b[0m: name 'date' is not defined"
     ]
    }
   ],
   "source": [
    "date(14,4,2025,1)"
   ]
  },
  {
   "cell_type": "code",
   "execution_count": 23,
   "id": "1b1f48a5-7196-4750-afff-66cceb1d7b9e",
   "metadata": {
    "scrolled": true
   },
   "outputs": [
    {
     "ename": "NameError",
     "evalue": "name 'BMI' is not defined",
     "output_type": "error",
     "traceback": [
      "\u001b[1;31m---------------------------------------------------------------------------\u001b[0m",
      "\u001b[1;31mNameError\u001b[0m                                 Traceback (most recent call last)",
      "Cell \u001b[1;32mIn[23], line 1\u001b[0m\n\u001b[1;32m----> 1\u001b[0m \u001b[38;5;124m\"\u001b[39m\u001b[38;5;124mUnderweight\u001b[39m\u001b[38;5;124m\"\u001b[39m \u001b[38;5;28;01mif\u001b[39;00m BMI \u001b[38;5;241m<\u001b[39m \u001b[38;5;241m18.5\u001b[39m \u001b[38;5;28;01melse\u001b[39;00m \u001b[38;5;124m\"\u001b[39m\u001b[38;5;124mObese\u001b[39m\u001b[38;5;124m\"\u001b[39m\n",
      "\u001b[1;31mNameError\u001b[0m: name 'BMI' is not defined"
     ]
    }
   ],
   "source": [
    "\"Underweight\" if BMI < 18.5 else \"Obese\""
   ]
  },
  {
   "cell_type": "code",
   "execution_count": null,
   "id": "24ab2b93-3634-4ff7-96d8-17730fc13807",
   "metadata": {},
   "outputs": [],
   "source": [
    "Underweight\" if BMI < 18.5 else \"Normal\" if 18.5 <= BMI <= 24.9 else \"Overweight\" if 24.9 < BMI <= 29.9 else \"Obese\""
   ]
  },
  {
   "cell_type": "code",
   "execution_count": 7,
   "id": "83f16033-f159-4f35-916b-9c7dbbf24b51",
   "metadata": {},
   "outputs": [],
   "source": [
    "###################################      LAMDA   FUNCTION   ################################"
   ]
  },
  {
   "cell_type": "code",
   "execution_count": 47,
   "id": "b2cb19c5-3d43-40c0-94c7-06ea1ddfe110",
   "metadata": {},
   "outputs": [],
   "source": [
    "def square_num(num):\n",
    "    return num**2,num**3"
   ]
  },
  {
   "cell_type": "code",
   "execution_count": 49,
   "id": "0acb3c9c-1fa0-4bf3-b9ff-f9f753b13e04",
   "metadata": {},
   "outputs": [
    {
     "ename": "TypeError",
     "evalue": "square_num() takes 1 positional argument but 2 were given",
     "output_type": "error",
     "traceback": [
      "\u001b[1;31m---------------------------------------------------------------------------\u001b[0m",
      "\u001b[1;31mTypeError\u001b[0m                                 Traceback (most recent call last)",
      "Cell \u001b[1;32mIn[49], line 1\u001b[0m\n\u001b[1;32m----> 1\u001b[0m square_num(\u001b[38;5;241m5\u001b[39m,\u001b[38;5;241m6\u001b[39m)\n",
      "\u001b[1;31mTypeError\u001b[0m: square_num() takes 1 positional argument but 2 were given"
     ]
    }
   ],
   "source": [
    "square_num(5,6)"
   ]
  },
  {
   "cell_type": "code",
   "execution_count": 17,
   "id": "ca943b1a-c4e7-4e0c-ab9c-b65be22caf62",
   "metadata": {},
   "outputs": [],
   "source": [
    "square_num1 = lambda num : num**2"
   ]
  },
  {
   "cell_type": "code",
   "execution_count": 25,
   "id": "d60a162e-c271-417e-85c4-24845c677038",
   "metadata": {},
   "outputs": [
    {
     "data": {
      "text/plain": [
       "100"
      ]
     },
     "execution_count": 25,
     "metadata": {},
     "output_type": "execute_result"
    }
   ],
   "source": [
    "square_num1(10)"
   ]
  },
  {
   "cell_type": "code",
   "execution_count": 27,
   "id": "4e53cb4c-f385-49b0-b5eb-c246c695b1a3",
   "metadata": {},
   "outputs": [],
   "source": [
    "### add two num "
   ]
  },
  {
   "cell_type": "code",
   "execution_count": 41,
   "id": "882d279c-a2ad-4b09-bc57-4829cc893b0c",
   "metadata": {},
   "outputs": [],
   "source": [
    "add_two = lambda  x,y:x+y"
   ]
  },
  {
   "cell_type": "code",
   "execution_count": 43,
   "id": "f8434bb8-99e6-41c6-a80f-b602ba34b9d8",
   "metadata": {},
   "outputs": [
    {
     "data": {
      "text/plain": [
       "17"
      ]
     },
     "execution_count": 43,
     "metadata": {},
     "output_type": "execute_result"
    }
   ],
   "source": [
    "add_two(8,9)"
   ]
  },
  {
   "cell_type": "code",
   "execution_count": 33,
   "id": "68ec7e21-2a0c-4699-b4d8-b55bf251b9e2",
   "metadata": {},
   "outputs": [],
   "source": [
    "#  check whether num is odd or even "
   ]
  },
  {
   "cell_type": "code",
   "execution_count": 35,
   "id": "1b87127f-7392-4a5c-8460-13cfbb3b72b0",
   "metadata": {},
   "outputs": [],
   "source": [
    "even_odd = lambda x: \"even\" if x % 2 == 0 else \"odd\""
   ]
  },
  {
   "cell_type": "code",
   "execution_count": 45,
   "id": "8d15989e-0017-4d11-9bda-00157969f2b7",
   "metadata": {},
   "outputs": [
    {
     "data": {
      "text/plain": [
       "'odd'"
      ]
     },
     "execution_count": 45,
     "metadata": {},
     "output_type": "execute_result"
    }
   ],
   "source": [
    "even_odd(5)"
   ]
  },
  {
   "cell_type": "code",
   "execution_count": null,
   "id": "3a6dfb4e-96c8-4217-bcd9-8fa4a1d35e92",
   "metadata": {},
   "outputs": [],
   "source": []
  }
 ],
 "metadata": {
  "kernelspec": {
   "display_name": "Python [conda env:base] *",
   "language": "python",
   "name": "conda-base-py"
  },
  "language_info": {
   "codemirror_mode": {
    "name": "ipython",
    "version": 3
   },
   "file_extension": ".py",
   "mimetype": "text/x-python",
   "name": "python",
   "nbconvert_exporter": "python",
   "pygments_lexer": "ipython3",
   "version": "3.12.7"
  }
 },
 "nbformat": 4,
 "nbformat_minor": 5
}
