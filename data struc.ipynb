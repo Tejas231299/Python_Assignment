{
 "cells": [
  {
   "cell_type": "code",
   "execution_count": 1,
   "id": "d50f7fb9-872d-4cfc-a0e3-d575a745fbdd",
   "metadata": {},
   "outputs": [],
   "source": [
    "virat_run_1 = 50\n",
    "virat_run_2 = 40\n",
    "virat_run_200 = 0"
   ]
  },
  {
   "cell_type": "code",
   "execution_count": 2,
   "id": "71862003-508f-476e-b46c-18139e8667d7",
   "metadata": {},
   "outputs": [
    {
     "ename": "IndentationError",
     "evalue": "unexpected indent (3316047107.py, line 3)",
     "output_type": "error",
     "traceback": [
      "\u001b[1;36m  Cell \u001b[1;32mIn[2], line 3\u001b[1;36m\u001b[0m\n\u001b[1;33m    0 1 2\u001b[0m\n\u001b[1;37m    ^\u001b[0m\n\u001b[1;31mIndentationError\u001b[0m\u001b[1;31m:\u001b[0m unexpected indent\n"
     ]
    }
   ],
   "source": [
    "virat_run = [50,40,0]\n",
    "\n",
    "              0 1 2"
   ]
  },
  {
   "cell_type": "code",
   "execution_count": null,
   "id": "3c57b7de-eecb-4059-ba63-2e5823dba58e",
   "metadata": {},
   "outputs": [],
   "source": [
    "type(virat_run)"
   ]
  },
  {
   "cell_type": "code",
   "execution_count": null,
   "id": "f47a645f-1b02-4e7f-807c-371ab63a2260",
   "metadata": {},
   "outputs": [],
   "source": [
    "virat_run[1]"
   ]
  },
  {
   "cell_type": "code",
   "execution_count": null,
   "id": "31095e59-11e1-49db-a429-70268fb90aab",
   "metadata": {},
   "outputs": [],
   "source": [
    "dhoni_runs = [54,69,97,23,48,96,50,12,92,101,36,119]\n",
    "\n",
    "#              0 1 2 3 4 5 6 7 8 9 10 11 "
   ]
  },
  {
   "cell_type": "code",
   "execution_count": null,
   "id": "3e8bd8e6-2010-4ca8-bea6-a9fe2819bc31",
   "metadata": {},
   "outputs": [],
   "source": [
    "len(dhoni_runs)-1"
   ]
  },
  {
   "cell_type": "code",
   "execution_count": null,
   "id": "10f45dcd-153f-4bde-b2c7-512cdcbd5699",
   "metadata": {},
   "outputs": [],
   "source": [
    "dhoni_runs[11]"
   ]
  },
  {
   "cell_type": "code",
   "execution_count": null,
   "id": "51d46d54-359f-40be-8f05-b3a8f448ff9c",
   "metadata": {},
   "outputs": [],
   "source": [
    "dhoni_runs[len(dhoni_runs)-5]"
   ]
  },
  {
   "cell_type": "code",
   "execution_count": null,
   "id": "1f87ed84-16c2-4fa4-898f-d0e870940d6c",
   "metadata": {},
   "outputs": [],
   "source": [
    "#            -12-11-10-09-08-07-06-05-04 -03-02 -01 \n",
    "dhoni_runs = [54,69,97,23,48,96,50,12,92,101,36,119]\n",
    "\n",
    "#              0 1 2 3 4 5 6 7 8 9 10 11 "
   ]
  },
  {
   "cell_type": "code",
   "execution_count": null,
   "id": "64f62091-f3ab-4ca2-a485-2871ce9a22ce",
   "metadata": {},
   "outputs": [],
   "source": [
    "dhoni_runs"
   ]
  },
  {
   "cell_type": "code",
   "execution_count": null,
   "id": "cfd22c0f-f052-4f55-93ab-d1a7b13556dc",
   "metadata": {},
   "outputs": [],
   "source": [
    "x = 5"
   ]
  },
  {
   "cell_type": "code",
   "execution_count": null,
   "id": "2e02342b-ce66-4e77-b120-1ee401ed9102",
   "metadata": {},
   "outputs": [],
   "source": [
    "x = 6"
   ]
  },
  {
   "cell_type": "code",
   "execution_count": null,
   "id": "7a075021-39ec-4b15-9ba1-9074094fb444",
   "metadata": {},
   "outputs": [],
   "source": [
    "###   update  operations\n",
    "\n",
    "dhoni_runs[11] = 10"
   ]
  },
  {
   "cell_type": "code",
   "execution_count": null,
   "id": "f81da37a-ecf9-4053-92a6-1c8c4c53bad8",
   "metadata": {},
   "outputs": [],
   "source": [
    "dhoni_runs"
   ]
  },
  {
   "cell_type": "code",
   "execution_count": null,
   "id": "d86258ff-6ea8-4aee-9907-96ed9a025db3",
   "metadata": {},
   "outputs": [],
   "source": [
    "id(dhoni_runs)"
   ]
  },
  {
   "cell_type": "code",
   "execution_count": null,
   "id": "a5ffbc6e-ff64-428c-90b6-f2990db16a54",
   "metadata": {},
   "outputs": [],
   "source": [
    "##  only add in  last \n",
    "dhoni_runs.append(100)"
   ]
  },
  {
   "cell_type": "code",
   "execution_count": null,
   "id": "d9514cbc-2ede-412c-9a42-ba62aa36daa9",
   "metadata": {},
   "outputs": [],
   "source": [
    "dhoni_runs"
   ]
  },
  {
   "cell_type": "code",
   "execution_count": null,
   "id": "5c026deb-25ec-45ae-aca2-4be33ba3a885",
   "metadata": {},
   "outputs": [],
   "source": [
    "dhoni_runs.insert(2,150)"
   ]
  },
  {
   "cell_type": "code",
   "execution_count": null,
   "id": "506b8b2c-1162-4ab0-b8e2-4640ac4eed8a",
   "metadata": {},
   "outputs": [],
   "source": [
    "dhoni_runs"
   ]
  },
  {
   "cell_type": "code",
   "execution_count": null,
   "id": "7919c424-fc30-40dc-914b-0aeb5ffdb63b",
   "metadata": {},
   "outputs": [],
   "source": [
    "dhoni_runs.extend([77,88,99])"
   ]
  },
  {
   "cell_type": "code",
   "execution_count": null,
   "id": "5516423c-02a0-466b-bbbf-5f1bad4cb146",
   "metadata": {},
   "outputs": [],
   "source": [
    "dhoni_runs"
   ]
  },
  {
   "cell_type": "code",
   "execution_count": null,
   "id": "44e96727-bc0b-4206-b60c-7ca6433d1648",
   "metadata": {},
   "outputs": [],
   "source": [
    "'''\n",
    "Append - > add one value to the end \n",
    "Insert - add a value at any index of choice\n",
    "extend - append multible values at the end \n",
    "'''"
   ]
  },
  {
   "cell_type": "code",
   "execution_count": null,
   "id": "3cf8b9c6-a654-4e67-8bfd-f2a32b6d38db",
   "metadata": {},
   "outputs": [],
   "source": [
    "##  only  for  FOR  loops   not work in while loops \n",
    "for i in dhoni_runs:\n",
    "    print(i)"
   ]
  },
  {
   "cell_type": "code",
   "execution_count": null,
   "id": "47713e11-62c0-4173-bbad-ee0bfda679c5",
   "metadata": {},
   "outputs": [],
   "source": [
    "sum(dhoni_runs)"
   ]
  },
  {
   "cell_type": "code",
   "execution_count": null,
   "id": "9387f425-95b3-433b-8881-1ec102786ee4",
   "metadata": {},
   "outputs": [],
   "source": [
    "sum([5,2])"
   ]
  },
  {
   "cell_type": "code",
   "execution_count": null,
   "id": "f9f339e0-c5e4-4b9b-b9d3-d279225df616",
   "metadata": {},
   "outputs": [],
   "source": [
    "min(dhoni_runs)"
   ]
  },
  {
   "cell_type": "code",
   "execution_count": null,
   "id": "f76308a7-1760-45a3-8689-7468f9308b32",
   "metadata": {},
   "outputs": [],
   "source": [
    "max(dhoni_runs)"
   ]
  },
  {
   "cell_type": "code",
   "execution_count": null,
   "id": "fb3dd899-168b-4757-bfc5-ed0766c9be15",
   "metadata": {},
   "outputs": [],
   "source": [
    "## Average \n",
    "sum(dhoni_runs)/len(dhoni_runs)"
   ]
  },
  {
   "cell_type": "code",
   "execution_count": null,
   "id": "97f90087-9f01-422c-95ed-310f4475ed51",
   "metadata": {},
   "outputs": [],
   "source": [
    "import numpy\n",
    "numpy.mean(dhoni_runs)"
   ]
  },
  {
   "cell_type": "code",
   "execution_count": null,
   "id": "7f11a477-f303-4c83-8c64-876b9f0edf9b",
   "metadata": {},
   "outputs": [],
   "source": [
    "###   Q -- \n",
    "##run_virat = [67,54,12,34,77,89,101,120]\n",
    "## in runs_virat - calculate , sum, avg, min,max.\n",
    "## without use internal function , you can use lenght function "
   ]
  },
  {
   "cell_type": "code",
   "execution_count": null,
   "id": "77bfd143-ddf7-47b4-90f0-87326c3c361c",
   "metadata": {},
   "outputs": [],
   "source": [
    "virat_run = [67,54,12,34,77,89,101,120]\n",
    "def custom_sum(list1):\n",
    "    sum_0=0\n",
    "    for i in list1:\n",
    "        sum_0 +=i\n",
    "    return (sum_0)"
   ]
  },
  {
   "cell_type": "code",
   "execution_count": null,
   "id": "d020da6c-b2e3-4ed0-9dc1-987a57697b1b",
   "metadata": {},
   "outputs": [],
   "source": [
    "custom_sum(virat_run)"
   ]
  },
  {
   "cell_type": "code",
   "execution_count": null,
   "id": "bbd867e1-974e-4e07-b530-7977fa18e4e9",
   "metadata": {},
   "outputs": [],
   "source": [
    "(custom_sum(virat_run))/len(virat_run)"
   ]
  },
  {
   "cell_type": "code",
   "execution_count": null,
   "id": "e688e56e-7ca1-4570-937f-968c13355b9e",
   "metadata": {},
   "outputs": [],
   "source": [
    "virat_run = [67,54,12,34,77,89,101,120]"
   ]
  },
  {
   "cell_type": "code",
   "execution_count": null,
   "id": "e376f5a5-af4b-40d7-bd76-367219ac26e5",
   "metadata": {},
   "outputs": [],
   "source": [
    "virat_run"
   ]
  },
  {
   "cell_type": "code",
   "execution_count": null,
   "id": "3d8aeb80-6c79-47b3-a5c7-d862d8245a99",
   "metadata": {},
   "outputs": [],
   "source": [
    "def custom_max(list1):\n",
    "    max_runs = list1[0]\n",
    "    for i in range(1,len(list1)):\n",
    "        if list1[i] > max_runs:\n",
    "            max_runs = list1[i]\n",
    "    return max_runs"
   ]
  },
  {
   "cell_type": "code",
   "execution_count": null,
   "id": "e8ed48e1-1897-4a7a-a853-16eaee98f9f6",
   "metadata": {},
   "outputs": [],
   "source": [
    "custom_max(virat_run)"
   ]
  },
  {
   "cell_type": "code",
   "execution_count": null,
   "id": "170a14e1-284d-4e35-a0fe-33cc4e1869cc",
   "metadata": {},
   "outputs": [],
   "source": [
    "def custom_min(list1):\n",
    "    min_runs = list1[0]\n",
    "    for i in range(1,len(list1)):\n",
    "        if list1[i] < min_runs:\n",
    "            min_runs = list1[i]\n",
    "    return min_runs"
   ]
  },
  {
   "cell_type": "code",
   "execution_count": null,
   "id": "f9c490ad-4b83-4c40-b0f5-64f19bfe5453",
   "metadata": {},
   "outputs": [],
   "source": [
    "custom_min(virat_run)"
   ]
  },
  {
   "cell_type": "code",
   "execution_count": null,
   "id": "00f46d5e-da6e-429a-885c-e1226954d8fa",
   "metadata": {},
   "outputs": [],
   "source": [
    "list1 = 1,2,3\n",
    "list2 = 4,5,6"
   ]
  },
  {
   "cell_type": "code",
   "execution_count": null,
   "id": "6456dd9b-e229-4419-a368-2402ccd6c822",
   "metadata": {},
   "outputs": [],
   "source": [
    "list1+list2"
   ]
  },
  {
   "cell_type": "code",
   "execution_count": null,
   "id": "c1526d56-4143-4e73-9d53-6751a8f0632a",
   "metadata": {},
   "outputs": [],
   "source": [
    "list1 * 3"
   ]
  },
  {
   "cell_type": "code",
   "execution_count": null,
   "id": "78400fe4-4859-473e-a0d5-21f404dc28c7",
   "metadata": {},
   "outputs": [],
   "source": [
    "virat_run"
   ]
  },
  {
   "cell_type": "code",
   "execution_count": null,
   "id": "4925246f-fc01-41c0-83f3-67e49c08e62a",
   "metadata": {},
   "outputs": [],
   "source": [
    "virat_run.pop()"
   ]
  },
  {
   "cell_type": "code",
   "execution_count": null,
   "id": "625846fd-5f67-4d8d-9221-2f7c61404bac",
   "metadata": {},
   "outputs": [],
   "source": [
    "virat_run.pop()"
   ]
  },
  {
   "cell_type": "code",
   "execution_count": null,
   "id": "c52141fc-7d5a-4103-8307-021e6be5aaf0",
   "metadata": {},
   "outputs": [],
   "source": [
    "virat_run"
   ]
  },
  {
   "cell_type": "code",
   "execution_count": null,
   "id": "cf7dba05-8411-41ee-840d-5119c481c8e9",
   "metadata": {},
   "outputs": [],
   "source": [
    "virat_run"
   ]
  },
  {
   "cell_type": "code",
   "execution_count": null,
   "id": "61cb2888-041b-4fa9-9999-a452799f25e2",
   "metadata": {},
   "outputs": [],
   "source": [
    "virat_run.pop(1)"
   ]
  },
  {
   "cell_type": "code",
   "execution_count": null,
   "id": "0990b78a-c1ca-4df2-b7fb-514b915dba5a",
   "metadata": {},
   "outputs": [],
   "source": [
    "virat_run.remove(77)"
   ]
  },
  {
   "cell_type": "code",
   "execution_count": null,
   "id": "b34ec701-8770-4f39-a2bc-ad5363c348d5",
   "metadata": {},
   "outputs": [],
   "source": [
    "virat_run"
   ]
  },
  {
   "cell_type": "code",
   "execution_count": null,
   "id": "598baedc-4fbf-45d4-af55-7e8ab26e36d3",
   "metadata": {},
   "outputs": [],
   "source": [
    "list5 = [1,2,3,2]"
   ]
  },
  {
   "cell_type": "code",
   "execution_count": null,
   "id": "ffd591b9-91e6-4cab-b9fb-c8e229df127d",
   "metadata": {},
   "outputs": [],
   "source": [
    "list5"
   ]
  },
  {
   "cell_type": "code",
   "execution_count": null,
   "id": "615bbec5-ac57-4191-b14c-984a1d60dec1",
   "metadata": {},
   "outputs": [],
   "source": [
    "list5.remove(2)"
   ]
  },
  {
   "cell_type": "code",
   "execution_count": null,
   "id": "41f83335-3eb7-44ee-a740-08916c0f7405",
   "metadata": {},
   "outputs": [],
   "source": [
    "list5"
   ]
  },
  {
   "cell_type": "code",
   "execution_count": null,
   "id": "8a5c3c7c-16cc-453f-9c88-2f28b22bc160",
   "metadata": {},
   "outputs": [],
   "source": [
    "list5.clear()"
   ]
  },
  {
   "cell_type": "code",
   "execution_count": null,
   "id": "1429c25b-fd69-444d-b2bb-6f3b9e5ce560",
   "metadata": {},
   "outputs": [],
   "source": [
    "list5"
   ]
  },
  {
   "cell_type": "code",
   "execution_count": null,
   "id": "06e9b2d8-7042-4341-949d-8627a3baeb79",
   "metadata": {},
   "outputs": [],
   "source": [
    "virat_run"
   ]
  },
  {
   "cell_type": "code",
   "execution_count": null,
   "id": "cab13cf0-55a3-444a-bae8-b440a3dc653f",
   "metadata": {},
   "outputs": [],
   "source": [
    "virat_run.count(12)"
   ]
  },
  {
   "cell_type": "code",
   "execution_count": null,
   "id": "a4bcd331-4b04-47b9-b5c2-193317e46786",
   "metadata": {},
   "outputs": [],
   "source": [
    "virat_run.sort()"
   ]
  },
  {
   "cell_type": "code",
   "execution_count": null,
   "id": "6b9a22e5-4097-40db-9c27-e10564a31cde",
   "metadata": {},
   "outputs": [],
   "source": [
    "virat_run"
   ]
  },
  {
   "cell_type": "code",
   "execution_count": null,
   "id": "529dba37-0781-482b-b120-593263a6dca0",
   "metadata": {},
   "outputs": [],
   "source": [
    "virat_run2 = [67,54,12,34,77,89,101,120]"
   ]
  },
  {
   "cell_type": "code",
   "execution_count": null,
   "id": "638161b3-4bdc-40e4-90a8-bd04ac6106f7",
   "metadata": {},
   "outputs": [],
   "source": [
    "virat_run2"
   ]
  },
  {
   "cell_type": "code",
   "execution_count": null,
   "id": "97e17588-7bdc-45fd-b663-97b9a6f47830",
   "metadata": {},
   "outputs": [],
   "source": [
    "##  only  work for list \n",
    "\n",
    "virat_run2.sort(reverse = True)"
   ]
  },
  {
   "cell_type": "code",
   "execution_count": null,
   "id": "c5fddc40-effe-4c49-90b5-5094397e9a6e",
   "metadata": {},
   "outputs": [],
   "source": [
    "virat_run2"
   ]
  },
  {
   "cell_type": "code",
   "execution_count": null,
   "id": "a032e5fd-967a-49b0-9977-424a03aad1ec",
   "metadata": {},
   "outputs": [],
   "source": [
    "virat3 = [67, 54, 12, 34, 77, 89, 101, 120]"
   ]
  },
  {
   "cell_type": "code",
   "execution_count": null,
   "id": "9ca879e6-c84c-47ad-b24b-7e1ae9ae572f",
   "metadata": {},
   "outputs": [],
   "source": [
    "virat3"
   ]
  },
  {
   "cell_type": "code",
   "execution_count": null,
   "id": "421fabb2-7f08-4525-aaed-bd2edb64200e",
   "metadata": {},
   "outputs": [],
   "source": [
    "virat3.reverse()"
   ]
  },
  {
   "cell_type": "code",
   "execution_count": null,
   "id": "d8541e77-b8a6-4514-b086-3a026554191f",
   "metadata": {},
   "outputs": [],
   "source": [
    "virat3"
   ]
  },
  {
   "cell_type": "code",
   "execution_count": null,
   "id": "7a585a2b-eaaf-44ce-a097-684ecbd83679",
   "metadata": {},
   "outputs": [],
   "source": [
    "sorted(virat3)"
   ]
  },
  {
   "cell_type": "code",
   "execution_count": null,
   "id": "a482f634-33ed-4baa-9fbd-f38ad7e8422a",
   "metadata": {},
   "outputs": [],
   "source": [
    "virat3"
   ]
  },
  {
   "cell_type": "code",
   "execution_count": null,
   "id": "71bcdb67-82ca-46a1-903c-14c88919fb8f",
   "metadata": {},
   "outputs": [],
   "source": [
    "##  map"
   ]
  },
  {
   "cell_type": "code",
   "execution_count": null,
   "id": "0630dcbf-2c14-4f26-84fc-208603275d1f",
   "metadata": {},
   "outputs": [],
   "source": [
    "map()"
   ]
  },
  {
   "cell_type": "code",
   "execution_count": null,
   "id": "fb602e9e-0277-4656-8a84-295f71cf52ec",
   "metadata": {},
   "outputs": [],
   "source": [
    "numbers = [1,2,3,4,5,6]\n",
    "\n",
    "squred_list = list(map(lambda x: x**2,numbers))\n",
    "squred_list"
   ]
  },
  {
   "cell_type": "code",
   "execution_count": null,
   "id": "8867f40a-399a-43eb-9deb-a0a564c4fcd3",
   "metadata": {},
   "outputs": [],
   "source": [
    "numbers = [1,2,3,4,5,6]\n",
    "\n",
    "squred_list = list(map(lambda x: x**2,numbers))\n",
    "squred_list"
   ]
  },
  {
   "cell_type": "code",
   "execution_count": null,
   "id": "ba933148-e0cb-4df8-bb7d-528aa275736d",
   "metadata": {},
   "outputs": [],
   "source": [
    "str_numbers = [\"1\",\"2\",\"3\"]\n",
    "list(map(int,str_numbers))"
   ]
  },
  {
   "cell_type": "code",
   "execution_count": null,
   "id": "39c8976b-e041-4989-a2cd-5057d2417568",
   "metadata": {},
   "outputs": [],
   "source": [
    "numbers = [1,4,9,16,25,36]\n",
    "import math \n",
    "squred_root_list = list(map(math.sqrt,numbers))\n",
    "squred_root_list"
   ]
  },
  {
   "cell_type": "code",
   "execution_count": null,
   "id": "5c2b6f93-274a-4e51-a3f5-b75feca5befb",
   "metadata": {},
   "outputs": [],
   "source": [
    "\n",
    "# taking input as list \n",
    "\n",
    "#  starting me 5 hai jo wo nhi lega wo kitni value lena h uske liye hai 5 input to 5 pehele than 5 numbers krna hai add\n",
    "\n",
    "resultant_list = []\n",
    "number_of_elements = int(input())\n",
    "\n",
    "for i in range(number_of_elements):\n",
    "    element = input()\n",
    "    resultant_list.append(element)\n",
    "\n",
    "resultant_list"
   ]
  },
  {
   "cell_type": "code",
   "execution_count": null,
   "id": "729ae360-4b9b-4706-858c-68732549bdbb",
   "metadata": {},
   "outputs": [],
   "source": [
    "resultant_list = []\n",
    "number_of_elements = int(input())\n",
    "\n",
    "for i in range(number_of_elements):\n",
    "    element = int(input())\n",
    "    resultant_list.append(element)\n",
    "\n",
    "resultant_list"
   ]
  },
  {
   "cell_type": "code",
   "execution_count": null,
   "id": "b4216287-b678-4bee-9352-ca3adfb2f12a",
   "metadata": {},
   "outputs": [],
   "source": [
    "list6 = eval(input())\n",
    "list6"
   ]
  },
  {
   "cell_type": "code",
   "execution_count": null,
   "id": "f9a74ddb-78be-43d6-b6f7-48caecf47e5f",
   "metadata": {},
   "outputs": [],
   "source": [
    "type(list6)"
   ]
  },
  {
   "cell_type": "code",
   "execution_count": null,
   "id": "8175114a-c312-410f-99d0-a49c4795d87a",
   "metadata": {},
   "outputs": [],
   "source": [
    "strr = \"this is string\""
   ]
  },
  {
   "cell_type": "code",
   "execution_count": null,
   "id": "ec679c84-d8ac-4b59-9138-ef35baa86b8e",
   "metadata": {},
   "outputs": [],
   "source": [
    "strr.split()"
   ]
  },
  {
   "cell_type": "code",
   "execution_count": null,
   "id": "ce731cc3-f5ae-4736-a11c-1caf326633c3",
   "metadata": {},
   "outputs": [],
   "source": [
    "str = \"hello\""
   ]
  },
  {
   "cell_type": "code",
   "execution_count": null,
   "id": "ab5faf2e-8820-4b5c-8377-bb9188154bbb",
   "metadata": {},
   "outputs": [],
   "source": [
    "str.split()"
   ]
  },
  {
   "cell_type": "code",
   "execution_count": null,
   "id": "21a2b99c-ae55-4e19-9e60-7570509dfc9e",
   "metadata": {},
   "outputs": [],
   "source": [
    "str = input(\"enter a string for all element\")\n",
    "all_element = str.split()"
   ]
  },
  {
   "cell_type": "code",
   "execution_count": null,
   "id": "ba32c78a-80a4-44b0-b57b-1d4da378ddfa",
   "metadata": {},
   "outputs": [],
   "source": [
    "all_element"
   ]
  },
  {
   "cell_type": "code",
   "execution_count": null,
   "id": "402a4f8d-2a00-428b-9ae4-a66a1e2251ea",
   "metadata": {},
   "outputs": [],
   "source": [
    "str1 = input(\"enter a string for all number element\")\n",
    "all_element = str1.split()\n",
    "all_element"
   ]
  },
  {
   "cell_type": "code",
   "execution_count": null,
   "id": "c7378d03-e272-4f02-a871-f9ee98249573",
   "metadata": {},
   "outputs": [],
   "source": [
    "str1 = input(\"enter a string for all number element\")\n",
    "all_element = list(map(int,str1.split()))\n",
    "all_element"
   ]
  },
  {
   "cell_type": "code",
   "execution_count": null,
   "id": "5b9cd91c-f380-4cab-8093-0f80f9f26317",
   "metadata": {},
   "outputs": [],
   "source": [
    "str1 = input(\"enter a string with comoas for all number element\")\n",
    "all_element = list(map(int,str1.split(\",\")))\n",
    "all_element"
   ]
  },
  {
   "cell_type": "code",
   "execution_count": null,
   "id": "bc3da90f-c54c-4a9b-bfae-239f8f4c08a2",
   "metadata": {},
   "outputs": [],
   "source": [
    "list(\"gvbjbk\")"
   ]
  },
  {
   "cell_type": "code",
   "execution_count": null,
   "id": "a7e2f858-ea0d-4765-8bc7-58aaba2927a4",
   "metadata": {},
   "outputs": [],
   "source": [
    "numbers = [189,45,95,16,250,36]\n",
    "more_than_80 = list(map(lambda x : x if x > 80 else None,numbers))\n",
    "more_than_80"
   ]
  },
  {
   "cell_type": "code",
   "execution_count": null,
   "id": "278da845-b6c4-47e8-9a76-1b15e5128ed8",
   "metadata": {},
   "outputs": [],
   "source": [
    "def morethan80_func(x):\n",
    "    if x > 80:\n",
    "        return x\n",
    "\n",
    "numbers = [189,45,95,16,250,36]\n",
    "more_than_80 = list(map(morethan80_func,numbers))\n",
    "more_than_80"
   ]
  },
  {
   "cell_type": "code",
   "execution_count": null,
   "id": "ed5a1276-4df3-44be-ac7d-4f275200f8e9",
   "metadata": {},
   "outputs": [],
   "source": [
    "numbers = [189,45,95,16,250,36]\n",
    "more_than_80 = list(map(morethan80_func,numbers))\n",
    "more_than_80"
   ]
  },
  {
   "cell_type": "code",
   "execution_count": null,
   "id": "2123f228-7f2a-4811-bbc6-9b9437a4f165",
   "metadata": {},
   "outputs": [],
   "source": [
    "##  filter   jo true hai wahi show krega ya laake dega \n",
    "\n",
    "numbers = [189,45,95,16,250,36]\n",
    "more_than_80 = list(filter(morethan80_func,numbers))\n",
    "more_than_80"
   ]
  },
  {
   "cell_type": "code",
   "execution_count": null,
   "id": "f6d6dc4f-bea5-4b14-8cfe-3958ca9f72d3",
   "metadata": {},
   "outputs": [],
   "source": [
    "###   reduce   LEARN   "
   ]
  },
  {
   "cell_type": "code",
   "execution_count": null,
   "id": "11e10762-e743-4dce-bece-2f4be38cbca9",
   "metadata": {},
   "outputs": [],
   "source": [
    "#             -8,-7,-6,-5,-4,-3,-2,-1\n",
    "#             0,  1, 2, 3,4 , 5, 6 ,7 \n",
    "virat_run = [67,54,12,34,77,89,101,120]"
   ]
  },
  {
   "cell_type": "code",
   "execution_count": null,
   "id": "88ed71b0-d5bc-42c0-82d8-6e5020ccd5cb",
   "metadata": {},
   "outputs": [],
   "source": [
    "virat_run"
   ]
  },
  {
   "cell_type": "code",
   "execution_count": null,
   "id": "1bda89e8-7319-4043-b0c0-ec473ca269fb",
   "metadata": {},
   "outputs": [],
   "source": [
    "# list slicing  \n",
    "# return me list dega \n",
    "virat_run[0:3:2]"
   ]
  },
  {
   "cell_type": "code",
   "execution_count": null,
   "id": "10b82af9-51c0-42d1-b078-5e11fe46cc74",
   "metadata": {},
   "outputs": [],
   "source": [
    "virat_run[0:3]"
   ]
  },
  {
   "cell_type": "code",
   "execution_count": null,
   "id": "268c5944-f750-45f6-acf7-323f39f6bc7c",
   "metadata": {},
   "outputs": [],
   "source": [
    "virat_run[5:]"
   ]
  },
  {
   "cell_type": "code",
   "execution_count": null,
   "id": "5d87ae16-7fe8-4088-b561-60ca1e1759c5",
   "metadata": {},
   "outputs": [],
   "source": [
    "virat_run"
   ]
  },
  {
   "cell_type": "code",
   "execution_count": null,
   "id": "e27f33f5-dc15-444b-9450-a9be306c8678",
   "metadata": {},
   "outputs": [],
   "source": [
    "virat_run[-3:]"
   ]
  },
  {
   "cell_type": "code",
   "execution_count": null,
   "id": "876642aa-b871-47a6-8754-ea791e40b493",
   "metadata": {},
   "outputs": [],
   "source": [
    "##   end point  include nhi rehta hai jo ki range function me bhi hota hai \n",
    "virat_run[1:-1]"
   ]
  },
  {
   "cell_type": "code",
   "execution_count": null,
   "id": "94704c98-d088-4bd4-84c3-0aed029327d6",
   "metadata": {},
   "outputs": [],
   "source": [
    "virat_run"
   ]
  },
  {
   "cell_type": "code",
   "execution_count": null,
   "id": "e76981a7-6bc8-447c-a1fe-bc831d73a277",
   "metadata": {},
   "outputs": [],
   "source": [
    "virat_run[::-1]"
   ]
  },
  {
   "cell_type": "code",
   "execution_count": null,
   "id": "0f1d2a61-67e6-4541-8995-35ac82c924cc",
   "metadata": {},
   "outputs": [],
   "source": [
    "virat_run[5:100:1]"
   ]
  },
  {
   "cell_type": "code",
   "execution_count": null,
   "id": "f730504f-d8a8-442a-b42b-8af92571e8ce",
   "metadata": {},
   "outputs": [],
   "source": [
    "##   -2 means wo -2 se start krra hai but ::-1 ke karanwo right move nhi krke left move hora hai -2 se end tk jara hai but left side  \n",
    "\n",
    "virat_run[-2::-1]"
   ]
  },
  {
   "cell_type": "code",
   "execution_count": null,
   "id": "1fc81841-9612-4314-b5ba-d1226277c016",
   "metadata": {},
   "outputs": [],
   "source": [
    "virat_run[0::2]"
   ]
  },
  {
   "cell_type": "code",
   "execution_count": null,
   "id": "7e912d25-7802-4a7d-a196-18a3ec52db09",
   "metadata": {},
   "outputs": [],
   "source": [
    "a = [10,20,30,40,50,60,70,80,90,100]\n",
    "##    0  1  2  3  4  5  6  7  8  9\n",
    "##  -10 -9 -8 -7 -6 -5 -4 -3 -2 -1\n"
   ]
  },
  {
   "cell_type": "code",
   "execution_count": null,
   "id": "428072ed-32a5-4cfb-a3a3-646c9a52bd1e",
   "metadata": {},
   "outputs": [],
   "source": [
    "# last me -1 hai iska means wo reverse kaam krra hai range function me - rehne me right to left jayega + rehne me left to right \n",
    "a [-8:5:-1]"
   ]
  },
  {
   "cell_type": "code",
   "execution_count": null,
   "id": "96dcbea3-a236-4e92-8562-13a16d4651bc",
   "metadata": {},
   "outputs": [],
   "source": [
    "write a program  "
   ]
  },
  {
   "cell_type": "code",
   "execution_count": null,
   "id": "db7c90d5-b8ba-4db2-85c0-f3b37d4fd073",
   "metadata": {},
   "outputs": [],
   "source": [
    "virat_run"
   ]
  },
  {
   "cell_type": "code",
   "execution_count": null,
   "id": "b343e9a3-0203-4d5e-bd06-7fad098bd858",
   "metadata": {},
   "outputs": [],
   "source": [
    "def odd_even_sum(list):\n",
    "    even_sum = 0\n",
    "    odd_sum = 0\n",
    "    for i in list:\n",
    "        if i % 2 == 0:\n",
    "            even_sum += i\n",
    "        else:\n",
    "            odd_sum += i\n",
    "    return even_sum - odd_sum"
   ]
  },
  {
   "cell_type": "code",
   "execution_count": null,
   "id": "975213cd-f754-4316-ae61-6c38e0ccb5e1",
   "metadata": {},
   "outputs": [],
   "source": [
    " odd_even_sum(virat_run)"
   ]
  },
  {
   "cell_type": "code",
   "execution_count": null,
   "id": "dd2d08e5-aa4e-497d-a10c-5c50add852bc",
   "metadata": {},
   "outputs": [],
   "source": [
    "list(filter(lambda x : x if x % 2 == 0 else None,virat_run))"
   ]
  },
  {
   "cell_type": "code",
   "execution_count": null,
   "id": "03ececf5-ba81-4d7c-bfe2-af5abc473925",
   "metadata": {},
   "outputs": [],
   "source": [
    "sum(list(filter(lambda x : x if x % 2 == 0 else None,virat_run)))"
   ]
  },
  {
   "cell_type": "code",
   "execution_count": null,
   "id": "f638ffcd-3b03-4b8e-8227-b04c279d212b",
   "metadata": {},
   "outputs": [],
   "source": [
    "sum(list(filter(lambda x : x if x % 2 != 0 else None,virat_run)))"
   ]
  },
  {
   "cell_type": "code",
   "execution_count": null,
   "id": "2513db34-b878-4cfa-b14e-0de4058e1dd5",
   "metadata": {},
   "outputs": [],
   "source": [
    "sum(list(filter(lambda x : x if x % 2 == 0 else None,virat_run)))-sum(list(filter(lambda x : x if x % 2 != 0 else None,virat_run)))"
   ]
  },
  {
   "cell_type": "code",
   "execution_count": null,
   "id": "c2a2cb1e-796b-4f8f-a618-c0cd35235bef",
   "metadata": {},
   "outputs": [],
   "source": []
  },
  {
   "cell_type": "code",
   "execution_count": null,
   "id": "6cf140d3-95ba-4ed0-82a9-ebf3467eeceb",
   "metadata": {},
   "outputs": [],
   "source": [
    " ####################################################  STRINGS  ############################################################"
   ]
  },
  {
   "cell_type": "code",
   "execution_count": null,
   "id": "71e29f21-537f-4c37-8441-7ee3885fbcb2",
   "metadata": {},
   "outputs": [],
   "source": []
  },
  {
   "cell_type": "code",
   "execution_count": null,
   "id": "c29e4a39-f7f0-4ee4-b7c1-0c732f05441f",
   "metadata": {},
   "outputs": [],
   "source": [
    "VAR = \"THIS IS PYTHON\""
   ]
  },
  {
   "cell_type": "code",
   "execution_count": null,
   "id": "5fb44deb-52f6-47d1-96a5-7146edd1d0a4",
   "metadata": {},
   "outputs": [],
   "source": [
    "id(VAR)"
   ]
  },
  {
   "cell_type": "code",
   "execution_count": null,
   "id": "78407eb5-a724-4616-bfe6-847a590ed159",
   "metadata": {},
   "outputs": [],
   "source": [
    "VAR = \"THIS IS PYTHON abc\""
   ]
  },
  {
   "cell_type": "code",
   "execution_count": null,
   "id": "0443ae2f-720f-47d6-a3e7-8947f7318cc9",
   "metadata": {},
   "outputs": [],
   "source": [
    "id(VAR)"
   ]
  },
  {
   "cell_type": "code",
   "execution_count": null,
   "id": "f91731d5-3c43-4b42-83d6-3857cc7eaa1a",
   "metadata": {},
   "outputs": [],
   "source": [
    "list = [1,2,]"
   ]
  },
  {
   "cell_type": "code",
   "execution_count": null,
   "id": "94410747-7281-4321-a8a1-b9579b07b2ca",
   "metadata": {},
   "outputs": [],
   "source": [
    "id(list)"
   ]
  },
  {
   "cell_type": "code",
   "execution_count": null,
   "id": "80f32038-d453-4b83-9293-4d6b173e8623",
   "metadata": {},
   "outputs": [],
   "source": [
    "list.append(4)"
   ]
  },
  {
   "cell_type": "code",
   "execution_count": null,
   "id": "909b89cb-089e-435a-932f-01ca5e39e01f",
   "metadata": {},
   "outputs": [],
   "source": [
    "id(list)"
   ]
  },
  {
   "cell_type": "code",
   "execution_count": null,
   "id": "03d64cb7-0b0e-44f4-a579-b82add9e14e5",
   "metadata": {},
   "outputs": [],
   "source": [
    "list"
   ]
  },
  {
   "cell_type": "code",
   "execution_count": null,
   "id": "7ba78192-db9b-42a2-9fa4-07edec384a7c",
   "metadata": {},
   "outputs": [],
   "source": [
    "'''\n",
    "gvgv\n",
    "vbj\n",
    "'''"
   ]
  },
  {
   "cell_type": "code",
   "execution_count": null,
   "id": "1e32ed3f-bca6-4f44-9c96-2872e83ffa9e",
   "metadata": {
    "scrolled": true
   },
   "outputs": [],
   "source": [
    "'nnn'"
   ]
  },
  {
   "cell_type": "raw",
   "id": "a2663665-a3d9-46aa-a6e7-11f528105053",
   "metadata": {},
   "source": [
    "## ggjgj"
   ]
  },
  {
   "cell_type": "code",
   "execution_count": null,
   "id": "42e0723f-5665-462b-a2ee-16bbf3a242b9",
   "metadata": {},
   "outputs": [],
   "source": [
    "\"ACH\" < \"ZG\""
   ]
  },
  {
   "cell_type": "code",
   "execution_count": null,
   "id": "ee7d53b7-1061-4581-aeb0-41f0fc38685d",
   "metadata": {},
   "outputs": [],
   "source": [
    "##  lexicographic order "
   ]
  },
  {
   "cell_type": "code",
   "execution_count": null,
   "id": "d601220b-6190-41de-912d-d91ee4dd8309",
   "metadata": {},
   "outputs": [],
   "source": [
    "##  ASCII   value   \n",
    "\n",
    "ord(\"A\")"
   ]
  },
  {
   "cell_type": "code",
   "execution_count": null,
   "id": "eeee5882-1a5b-420c-b3cb-989f1f5cdfaa",
   "metadata": {},
   "outputs": [],
   "source": [
    "\"ZG\" * 4"
   ]
  },
  {
   "cell_type": "code",
   "execution_count": null,
   "id": "5ecb3f46-6db3-47ab-88c7-3bf0943dd57e",
   "metadata": {},
   "outputs": [],
   "source": [
    "\"\\U0001F606\""
   ]
  },
  {
   "cell_type": "code",
   "execution_count": null,
   "id": "6f9ddd1b-90b7-4b8d-b211-f05c457473b3",
   "metadata": {},
   "outputs": [],
   "source": [
    "leng  = 50\n",
    "bread = 80\n",
    "area_rec = leng * bread\n",
    "area_rec"
   ]
  },
  {
   "cell_type": "code",
   "execution_count": null,
   "id": "f697c3c4-7bc3-405f-b140-af9ec0aa5f9e",
   "metadata": {},
   "outputs": [],
   "source": [
    "print(\"length is\",leng,\"\\nbreadth is\",bread,\"\\nAreas is\",area_rec)"
   ]
  },
  {
   "cell_type": "code",
   "execution_count": null,
   "id": "9842a9bc-3fee-4c4f-9041-364b312caf2e",
   "metadata": {},
   "outputs": [],
   "source": [
    "print(\"length is {2} breadth is {1} Areas is {0}\".format(leng,bread,area_rec))"
   ]
  },
  {
   "cell_type": "code",
   "execution_count": null,
   "id": "e0008ef2-016c-461f-a957-204d7eb1fabb",
   "metadata": {},
   "outputs": [],
   "source": [
    "#  Format direct define k liye  direct bhi f\"\" iske bad kuch bhi type kr skte hai \n",
    "\n",
    "print(f\"length is {leng} breadth is {bread} Areas is {area_rec}\")"
   ]
  },
  {
   "cell_type": "code",
   "execution_count": null,
   "id": "43cec7d7-5346-428d-8c1a-2c1d4135125e",
   "metadata": {},
   "outputs": [],
   "source": [
    "VAR = \"THIS IS PYTHON abc\""
   ]
  },
  {
   "cell_type": "code",
   "execution_count": null,
   "id": "0f331ab2-78fb-4d23-a175-c4b2720fc5fa",
   "metadata": {},
   "outputs": [],
   "source": [
    "VAR[8]"
   ]
  },
  {
   "cell_type": "code",
   "execution_count": null,
   "id": "170e7868-5b3c-4228-8524-8c7396262d7f",
   "metadata": {},
   "outputs": [],
   "source": [
    "VAR.split(\"S\")"
   ]
  },
  {
   "cell_type": "code",
   "execution_count": null,
   "id": "3665d539-c496-44d6-819b-473b5a4f4805",
   "metadata": {},
   "outputs": [],
   "source": [
    "listtt = VAR.split()"
   ]
  },
  {
   "cell_type": "code",
   "execution_count": null,
   "id": "196d768b-f380-47f5-b53e-3b79eeda6157",
   "metadata": {},
   "outputs": [],
   "source": [
    "listtt"
   ]
  },
  {
   "cell_type": "code",
   "execution_count": null,
   "id": "d5346605-aeda-4d49-8a3d-82c9fde09560",
   "metadata": {},
   "outputs": [],
   "source": [
    "\"_\".join(listtt)"
   ]
  },
  {
   "cell_type": "code",
   "execution_count": null,
   "id": "34a697dd-f369-44b6-a8ed-1aef486f3f56",
   "metadata": {},
   "outputs": [],
   "source": [
    "listtt"
   ]
  },
  {
   "cell_type": "code",
   "execution_count": null,
   "id": "9d096002-5853-45ae-a482-09f8e27546f1",
   "metadata": {},
   "outputs": [],
   "source": [
    "VAR.find(\"PYTHON\")"
   ]
  },
  {
   "cell_type": "code",
   "execution_count": null,
   "id": "9abacd29-e090-4429-9c2c-b0f28fae4b33",
   "metadata": {},
   "outputs": [],
   "source": [
    "VAR.replace(\"PYTHON\",\"java\")"
   ]
  },
  {
   "cell_type": "code",
   "execution_count": null,
   "id": "3e39171c-bfb9-45eb-892a-942ca2066bed",
   "metadata": {},
   "outputs": [],
   "source": [
    "\"PYTHON\" in VAR"
   ]
  },
  {
   "cell_type": "code",
   "execution_count": null,
   "id": "fb450625-5097-49a6-9acc-d877863d14c8",
   "metadata": {},
   "outputs": [],
   "source": [
    "\"156\".isdigit()"
   ]
  },
  {
   "cell_type": "code",
   "execution_count": null,
   "id": "bca7ea03-2c4b-466a-9d8e-40ad9b4854ad",
   "metadata": {},
   "outputs": [],
   "source": [
    "\"jjj\".isalpha()"
   ]
  },
  {
   "cell_type": "code",
   "execution_count": null,
   "id": "5e570972-71ec-4aa6-b034-6a3c8e0d04cf",
   "metadata": {},
   "outputs": [],
   "source": [
    "\" \".isspace()"
   ]
  },
  {
   "cell_type": "code",
   "execution_count": null,
   "id": "9341630a-d072-4bba-920b-8821494a388b",
   "metadata": {},
   "outputs": [],
   "source": [
    "\"bbb77\".isalnum()"
   ]
  },
  {
   "cell_type": "code",
   "execution_count": null,
   "id": "a7644fc1-9b91-4f66-bde2-9c74b8431c98",
   "metadata": {},
   "outputs": [],
   "source": [
    "\"sgrsc\".islower()"
   ]
  },
  {
   "cell_type": "code",
   "execution_count": null,
   "id": "67698072-5de8-4ff5-9602-643b9ac49b41",
   "metadata": {},
   "outputs": [],
   "source": [
    "\"AS\".isupper()"
   ]
  },
  {
   "cell_type": "code",
   "execution_count": null,
   "id": "b9f08149-ec94-4a5b-bcf2-9d61a2fe113a",
   "metadata": {},
   "outputs": [],
   "source": [
    "VAR.upper()"
   ]
  },
  {
   "cell_type": "code",
   "execution_count": null,
   "id": "186f9eac-2f63-4f44-9d08-372e84a77839",
   "metadata": {},
   "outputs": [],
   "source": [
    "VAR.lower()"
   ]
  },
  {
   "cell_type": "code",
   "execution_count": null,
   "id": "cc7a5444-6301-4b2e-8272-5b518e0bd6d8",
   "metadata": {},
   "outputs": [],
   "source": [
    "##   first letter alwayes capital jaise ki this ka T capital hai \n",
    "VAR.capitalize()"
   ]
  },
  {
   "cell_type": "code",
   "execution_count": null,
   "id": "4611a17c-9bae-40bd-b877-d7257ff71d8a",
   "metadata": {},
   "outputs": [],
   "source": [
    "\n",
    "##  sbke first capital \n",
    "VAR.title()"
   ]
  },
  {
   "cell_type": "code",
   "execution_count": null,
   "id": "80177081-7a5f-4d7c-bd7b-ae5cb9447759",
   "metadata": {},
   "outputs": [],
   "source": [
    "VAR.swapcase()"
   ]
  },
  {
   "cell_type": "code",
   "execution_count": null,
   "id": "762631bd-17bb-40c8-b822-af8632576030",
   "metadata": {},
   "outputs": [],
   "source": [
    "\"guiASD\".swapcase()"
   ]
  },
  {
   "cell_type": "code",
   "execution_count": null,
   "id": "b41d1c15-06b7-4db6-ad8c-3a5f267abb02",
   "metadata": {},
   "outputs": [],
   "source": [
    "# \"school\""
   ]
  },
  {
   "cell_type": "code",
   "execution_count": null,
   "id": "d87c8f70-d0ba-423f-bedc-a045ff20c08f",
   "metadata": {},
   "outputs": [],
   "source": [
    "def vowel_count(S):\n",
    "    vowels = \"aeiou\"\n",
    "    vowels_count = 0\n",
    "    consonant_count = 0\n",
    "    S_lower = S.lower()\n",
    "    for i in S_lower:\n",
    "        if i in vowels:\n",
    "            vowels_count += 1\n",
    "        else:\n",
    "            consonant_count += 1\n",
    "    print(f\"Vowels = {vowels_count} consonant = {consonant_count}\")"
   ]
  },
  {
   "cell_type": "code",
   "execution_count": null,
   "id": "4312909b-1688-4a2f-a096-1b06747a881d",
   "metadata": {},
   "outputs": [],
   "source": [
    "vowel_count(\"School\")"
   ]
  },
  {
   "cell_type": "code",
   "execution_count": null,
   "id": "50f326b4-8310-4fa9-a21e-c32174bfb09c",
   "metadata": {},
   "outputs": [],
   "source": [
    "def vowel_count(S):\n",
    "    vowels = \"aeiou\"\n",
    "    vowels_count = 0\n",
    "    consonant_count = 0\n",
    "    S_lower = S.lower()\n",
    "    for i in S_lower:\n",
    "        if i in vowels:\n",
    "            vowels_count += 1\n",
    "        elif i.isalpha():\n",
    "            consonant_count += 1\n",
    "    print(f\"Vowels = {vowels_count} consonant = {consonant_count}\")"
   ]
  },
  {
   "cell_type": "code",
   "execution_count": null,
   "id": "4153d689-cc82-4ef5-a209-6b66e6011612",
   "metadata": {},
   "outputs": [],
   "source": [
    "vowel_count(\"SCHool\")"
   ]
  },
  {
   "cell_type": "code",
   "execution_count": null,
   "id": "803f933d-3666-4f39-bff9-8c96d022ebf4",
   "metadata": {},
   "outputs": [],
   "source": [
    "sorted(\"silent\")"
   ]
  },
  {
   "cell_type": "code",
   "execution_count": null,
   "id": "6465c6fa-246c-4abd-9490-b13bf84317c5",
   "metadata": {},
   "outputs": [],
   "source": [
    "sorted(\"listen\")"
   ]
  },
  {
   "cell_type": "code",
   "execution_count": null,
   "id": "4ce7dba9-997e-4c9c-9197-683ae64b76f9",
   "metadata": {},
   "outputs": [],
   "source": [
    "write a program to check it is anagram or not "
   ]
  },
  {
   "cell_type": "code",
   "execution_count": null,
   "id": "7bc1fea2-9fff-4e2e-bb25-1e2044cfb357",
   "metadata": {},
   "outputs": [],
   "source": [
    "def anagram(S1,S2):\n",
    "    if sorted(S1) == sorted(S2):\n",
    "        print(\"anagram YES\")\n",
    "    else:\n",
    "        print(\"NOT\")"
   ]
  },
  {
   "cell_type": "code",
   "execution_count": null,
   "id": "07fa14ff-b620-4cc8-8919-a577ac9338c8",
   "metadata": {},
   "outputs": [],
   "source": [
    "anagram(\"listen\",\"silent\")"
   ]
  },
  {
   "cell_type": "code",
   "execution_count": null,
   "id": "eacbef39-6c55-4528-90f3-93f01fadab17",
   "metadata": {},
   "outputs": [],
   "source": [
    "anagram(\"listen\",\"sint\")"
   ]
  },
  {
   "cell_type": "code",
   "execution_count": null,
   "id": "1308db25-86ba-4cc5-8098-3809167691e3",
   "metadata": {},
   "outputs": [],
   "source": [
    "\"icloud.com\".split(\".\")"
   ]
  },
  {
   "cell_type": "code",
   "execution_count": null,
   "id": "625909c2-622a-462b-93c4-f1bab62ac458",
   "metadata": {},
   "outputs": [],
   "source": [
    "\"naynish@icloud.com\".split(\"@\")"
   ]
  },
  {
   "cell_type": "code",
   "execution_count": null,
   "id": "2c4035c8-36a3-4d15-88d6-559ff4075770",
   "metadata": {},
   "outputs": [],
   "source": [
    "def is_valid_email(email):\n",
    "    if email.count(\"@\") != 1:\n",
    "        return False\n",
    "\n",
    "    # naynish@icloud.com\n",
    "    username,domain = email.split(\"@\")\n",
    "    if len(username) == 0:\n",
    "        return False\n",
    "    if \".\" not in domain:\n",
    "        return False\n",
    "    domain_parts = domain.split(\".\")\n",
    "    if len(domain_parts[-1]) < 2 :\n",
    "        return False\n",
    "    return True"
   ]
  },
  {
   "cell_type": "code",
   "execution_count": null,
   "id": "3af5d3e1-a865-487c-a062-02ebcf858211",
   "metadata": {},
   "outputs": [],
   "source": [
    "is_valid_email(\"naynish@icloud.com\")"
   ]
  },
  {
   "cell_type": "code",
   "execution_count": null,
   "id": "ce10c7b1-63ec-4d2f-9f9c-7968747944e2",
   "metadata": {},
   "outputs": [],
   "source": [
    "username,domain = \"naynish@icloud.com\".split(\"@\")"
   ]
  },
  {
   "cell_type": "code",
   "execution_count": null,
   "id": "6443e2e5-6800-4541-8515-ce29dc2b4bfd",
   "metadata": {},
   "outputs": [],
   "source": [
    "username"
   ]
  },
  {
   "cell_type": "code",
   "execution_count": null,
   "id": "a2405942-c051-4217-bf03-93adb638889b",
   "metadata": {},
   "outputs": [],
   "source": [
    "domain"
   ]
  },
  {
   "cell_type": "code",
   "execution_count": null,
   "id": "e459304c-c73f-4e42-b4b8-8a3331cfbf32",
   "metadata": {},
   "outputs": [],
   "source": [
    "def is_valid_email(email):\n",
    "    if email.count(\"@\") != 1:\n",
    "        return False\n",
    "\n",
    "    # naynish@icloud.com\n",
    "    username,domain = email.split(\"@\")\n",
    "    if len(username) == 0:\n",
    "        return False\n",
    "    if \".\" not in domain:\n",
    "        return False\n",
    "    domain_parts = domain.split(\".\")\n",
    "    if len(domain_parts[-1]) < 2 :\n",
    "        return False\n",
    "    if len(domain_parts) > 2:\n",
    "        return False\n",
    "    return True"
   ]
  },
  {
   "cell_type": "code",
   "execution_count": null,
   "id": "5e647f5b-2a60-4cad-9187-4c38f9872c48",
   "metadata": {},
   "outputs": [],
   "source": [
    "is_valid_email(\"nynish@icloud.ai.lm\")"
   ]
  },
  {
   "cell_type": "code",
   "execution_count": null,
   "id": "34f554bd-7dcd-4be0-bf79-8fc4992d50c1",
   "metadata": {},
   "outputs": [],
   "source": [
    "def is_valid_email(email):\n",
    "    if email.count(\"@\") != 1:\n",
    "        return False\n",
    "\n",
    "    # naynish@icloud.com\n",
    "    username,domain = email.split(\"@\")\n",
    "    if len(username) == 0:\n",
    "        return False\n",
    "    if \".\" not in domain:\n",
    "        return False\n",
    "    domain_parts = domain.split(\".\")\n",
    "    if len(domain_parts[-1]) < 2 :\n",
    "        return False\n",
    "    if len(domain_parts) > 2:\n",
    "        return False\n",
    "    if not domain_parts[-1].isalpha():\n",
    "        return False\n",
    "    return True"
   ]
  },
  {
   "cell_type": "code",
   "execution_count": null,
   "id": "ecf18fb6-c41b-4f85-90ab-f7384242512a",
   "metadata": {},
   "outputs": [],
   "source": [
    "is_valid_email(\"nynish@icloud.co9m\")"
   ]
  },
  {
   "cell_type": "code",
   "execution_count": null,
   "id": "312abb4b-1b4d-4416-99e4-e430a073f56d",
   "metadata": {},
   "outputs": [],
   "source": [
    "def is_valid_email(email):\n",
    "    if email.count(\"@\") != 1:\n",
    "        print(\"only @ allowed\")\n",
    "        return False\n",
    "\n",
    "    # naynish@icloud.com\n",
    "    username,domain = email.split(\"@\")\n",
    "    if len(username) == 0:\n",
    "        return False\n",
    "    if len(username.split())!=1:\n",
    "        return False\n",
    "    if \".\" not in domain:\n",
    "        return False\n",
    "    domain_parts = domain.split(\".\")\n",
    "    if len(domain_parts[-1]) < 2 :\n",
    "        return False\n",
    "    if len(domain_parts) > 2:\n",
    "        return False\n",
    "    if not domain_parts[-1].isalpha():\n",
    "        return False\n",
    "    return True"
   ]
  },
  {
   "cell_type": "code",
   "execution_count": null,
   "id": "40e21195-6200-4228-8879-f4ce7a7000fd",
   "metadata": {},
   "outputs": [],
   "source": [
    "is_valid_email(\"nyn is@h@icloud.com\")"
   ]
  },
  {
   "cell_type": "code",
   "execution_count": 148,
   "id": "acb39474-518f-4cf6-b22a-4b9a0126ae26",
   "metadata": {},
   "outputs": [
    {
     "name": "stdin",
     "output_type": "stream",
     "text": [
      " school\n"
     ]
    }
   ],
   "source": [
    "inp = input()\n",
    "inp = inp[::-1]"
   ]
  },
  {
   "cell_type": "code",
   "execution_count": 150,
   "id": "82d209ff-cfea-4fb8-8c15-d58f8a813a6e",
   "metadata": {},
   "outputs": [
    {
     "data": {
      "text/plain": [
       "'radar'"
      ]
     },
     "execution_count": 150,
     "metadata": {},
     "output_type": "execute_result"
    }
   ],
   "source": [
    "\"radar\"[::-1]"
   ]
  },
  {
   "cell_type": "code",
   "execution_count": null,
   "id": "be4b0825-f349-4cec-9408-85c2290ca275",
   "metadata": {},
   "outputs": [],
   "source": [
    "\n"
   ]
  },
  {
   "cell_type": "code",
   "execution_count": null,
   "id": "047e0196-2a6b-4a42-9418-39d7f1d89ea5",
   "metadata": {},
   "outputs": [],
   "source": [
    "##################################################     TUPLES   #############################################################"
   ]
  },
  {
   "cell_type": "code",
   "execution_count": null,
   "id": "1d628fb6-06ce-4440-b7f0-e28bcffa11f1",
   "metadata": {},
   "outputs": [],
   "source": []
  },
  {
   "cell_type": "code",
   "execution_count": 152,
   "id": "08508e58-5480-425a-92ec-d524b8b3e59a",
   "metadata": {},
   "outputs": [],
   "source": [
    "list1 = [1,2,3]"
   ]
  },
  {
   "cell_type": "code",
   "execution_count": 154,
   "id": "e8cdeeaf-b808-4a7a-b4af-8e91bcd68203",
   "metadata": {},
   "outputs": [
    {
     "data": {
      "text/plain": [
       "1471611697728"
      ]
     },
     "execution_count": 154,
     "metadata": {},
     "output_type": "execute_result"
    }
   ],
   "source": [
    "id(list1)"
   ]
  },
  {
   "cell_type": "code",
   "execution_count": 156,
   "id": "941351b7-2413-46f8-908e-1ff601dd1808",
   "metadata": {},
   "outputs": [],
   "source": [
    "list1[0] = 100"
   ]
  },
  {
   "cell_type": "code",
   "execution_count": 158,
   "id": "56cf2370-20ad-4f34-ba02-ba70d23b3d8b",
   "metadata": {},
   "outputs": [
    {
     "data": {
      "text/plain": [
       "1471611697728"
      ]
     },
     "execution_count": 158,
     "metadata": {},
     "output_type": "execute_result"
    }
   ],
   "source": [
    "id(list1)"
   ]
  },
  {
   "cell_type": "code",
   "execution_count": 162,
   "id": "ce09c736-7b7b-47e3-bdc4-0bf3d836475b",
   "metadata": {},
   "outputs": [],
   "source": [
    "tuple1 = (1,2,3,) "
   ]
  },
  {
   "cell_type": "code",
   "execution_count": 164,
   "id": "3d14ec56-a7b7-4cc3-b2de-4cfb0af26f30",
   "metadata": {},
   "outputs": [
    {
     "data": {
      "text/plain": [
       "tuple"
      ]
     },
     "execution_count": 164,
     "metadata": {},
     "output_type": "execute_result"
    }
   ],
   "source": [
    "type(tuple1)"
   ]
  },
  {
   "cell_type": "code",
   "execution_count": 166,
   "id": "d33be8ca-90b0-4ac0-a5b6-8ecca5ae3a85",
   "metadata": {},
   "outputs": [
    {
     "data": {
      "text/plain": [
       "1471625677632"
      ]
     },
     "execution_count": 166,
     "metadata": {},
     "output_type": "execute_result"
    }
   ],
   "source": [
    "id(tuple1)"
   ]
  },
  {
   "cell_type": "code",
   "execution_count": 168,
   "id": "01fb0ec6-e359-4288-8d6d-91a98bb5c76f",
   "metadata": {},
   "outputs": [
    {
     "data": {
      "text/plain": [
       "(1, 2, 3)"
      ]
     },
     "execution_count": 168,
     "metadata": {},
     "output_type": "execute_result"
    }
   ],
   "source": [
    "tuple1"
   ]
  },
  {
   "cell_type": "code",
   "execution_count": 194,
   "id": "65d95693-4508-46de-93b5-64e55911a5ae",
   "metadata": {},
   "outputs": [],
   "source": [
    "tuple1 = (100,2,3)"
   ]
  },
  {
   "cell_type": "code",
   "execution_count": 172,
   "id": "b80a6a0a-c7d5-4c42-8222-76c0d014033b",
   "metadata": {},
   "outputs": [
    {
     "data": {
      "text/plain": [
       "1471625683392"
      ]
     },
     "execution_count": 172,
     "metadata": {},
     "output_type": "execute_result"
    }
   ],
   "source": [
    "id(tuple1)"
   ]
  },
  {
   "cell_type": "code",
   "execution_count": 246,
   "id": "436cab5c-4e78-41d7-89a2-a0cdc8ca6429",
   "metadata": {},
   "outputs": [
    {
     "data": {
      "text/plain": [
       "(100, 2)"
      ]
     },
     "execution_count": 246,
     "metadata": {},
     "output_type": "execute_result"
    }
   ],
   "source": [
    "tuple1[0:2]   ##  last wala no, nhi lega index k liye 0:3 diya to 2 index lega "
   ]
  },
  {
   "cell_type": "code",
   "execution_count": 186,
   "id": "d4583d9a-d49b-4029-8f49-46c3091a100a",
   "metadata": {},
   "outputs": [
    {
     "name": "stdout",
     "output_type": "stream",
     "text": [
      "100\n",
      "2\n",
      "3\n"
     ]
    }
   ],
   "source": [
    "for i in tuple1:\n",
    "    print(i)"
   ]
  },
  {
   "cell_type": "code",
   "execution_count": 192,
   "id": "e7bf8560-410c-41be-b6e0-8bdd035e72c9",
   "metadata": {},
   "outputs": [],
   "source": [
    "def funcc():\n",
    "    return 25,\"fucg\""
   ]
  },
  {
   "cell_type": "code",
   "execution_count": 198,
   "id": "63c73ac2-4ce9-4f34-84b3-ddfc953bd147",
   "metadata": {},
   "outputs": [
    {
     "data": {
      "text/plain": [
       "(25, 'fucg')"
      ]
     },
     "execution_count": 198,
     "metadata": {},
     "output_type": "execute_result"
    }
   ],
   "source": [
    "funcc()"
   ]
  },
  {
   "cell_type": "code",
   "execution_count": 200,
   "id": "0f0f40d4-4d2c-4371-ab11-0182cc69d70d",
   "metadata": {},
   "outputs": [],
   "source": [
    "empty_list = []"
   ]
  },
  {
   "cell_type": "code",
   "execution_count": 202,
   "id": "32266a57-f404-481e-ad4c-f27d2f2527a3",
   "metadata": {},
   "outputs": [],
   "source": [
    "empty_tup = ()"
   ]
  },
  {
   "cell_type": "code",
   "execution_count": 204,
   "id": "ace59431-7df1-400b-a912-2a5797c20971",
   "metadata": {},
   "outputs": [
    {
     "data": {
      "text/plain": [
       "tuple"
      ]
     },
     "execution_count": 204,
     "metadata": {},
     "output_type": "execute_result"
    }
   ],
   "source": [
    "type(empty_tup)"
   ]
  },
  {
   "cell_type": "code",
   "execution_count": 206,
   "id": "f4901810-93f2-479f-b6b1-e363ba67d758",
   "metadata": {},
   "outputs": [],
   "source": [
    "empty_tup = (78)"
   ]
  },
  {
   "cell_type": "code",
   "execution_count": 208,
   "id": "0ebc1216-216c-41e5-b718-5e25e379cded",
   "metadata": {},
   "outputs": [
    {
     "data": {
      "text/plain": [
       "int"
      ]
     },
     "execution_count": 208,
     "metadata": {},
     "output_type": "execute_result"
    }
   ],
   "source": [
    "type(empty_tup)"
   ]
  },
  {
   "cell_type": "code",
   "execution_count": 212,
   "id": "6a0382f7-4775-43e3-b88f-a9d8d97642d8",
   "metadata": {},
   "outputs": [],
   "source": [
    "empty_tup = (78,)"
   ]
  },
  {
   "cell_type": "code",
   "execution_count": 214,
   "id": "31b01d82-ea49-4ad5-bef5-8e0f617af03f",
   "metadata": {},
   "outputs": [
    {
     "data": {
      "text/plain": [
       "tuple"
      ]
     },
     "execution_count": 214,
     "metadata": {},
     "output_type": "execute_result"
    }
   ],
   "source": [
    "type(empty_tup)"
   ]
  },
  {
   "cell_type": "code",
   "execution_count": 216,
   "id": "adb43c19-fa3c-4395-a3e3-6b80b71c2b1c",
   "metadata": {},
   "outputs": [],
   "source": [
    "tuple2 = (100,2,3,) "
   ]
  },
  {
   "cell_type": "code",
   "execution_count": 222,
   "id": "a912cb43-6b44-4e27-a24f-18d0bca3c8c7",
   "metadata": {},
   "outputs": [],
   "source": [
    "list(tuple2)[1] = 200"
   ]
  },
  {
   "cell_type": "code",
   "execution_count": 226,
   "id": "67000898-5e50-4fd5-837e-85c45eb1d994",
   "metadata": {},
   "outputs": [
    {
     "data": {
      "text/plain": [
       "[100, 2, 3]"
      ]
     },
     "execution_count": 226,
     "metadata": {},
     "output_type": "execute_result"
    }
   ],
   "source": [
    "list5 = list(tuple2)\n",
    "list5"
   ]
  },
  {
   "cell_type": "code",
   "execution_count": 228,
   "id": "5f9f9021-94f0-4698-b123-317f46c7c3d3",
   "metadata": {},
   "outputs": [],
   "source": [
    "list5[1] = 200"
   ]
  },
  {
   "cell_type": "code",
   "execution_count": 230,
   "id": "db6e4abf-55ea-494c-8b00-36219fe7ac25",
   "metadata": {},
   "outputs": [
    {
     "data": {
      "text/plain": [
       "[100, 200, 3]"
      ]
     },
     "execution_count": 230,
     "metadata": {},
     "output_type": "execute_result"
    }
   ],
   "source": [
    "list5"
   ]
  },
  {
   "cell_type": "code",
   "execution_count": 232,
   "id": "c9cdae32-4789-4f15-adec-a5f2fd3cc03c",
   "metadata": {},
   "outputs": [],
   "source": [
    "tuple2 = tuple(list5)"
   ]
  },
  {
   "cell_type": "code",
   "execution_count": 234,
   "id": "cf5ac078-56ff-4441-ae9c-801b230259c8",
   "metadata": {},
   "outputs": [
    {
     "data": {
      "text/plain": [
       "(100, 200, 3)"
      ]
     },
     "execution_count": 234,
     "metadata": {},
     "output_type": "execute_result"
    }
   ],
   "source": [
    "tuple2"
   ]
  },
  {
   "cell_type": "code",
   "execution_count": 248,
   "id": "ee5adafc-1b23-4f72-acff-b27a6585fe9f",
   "metadata": {},
   "outputs": [
    {
     "data": {
      "text/plain": [
       "(100, 200, 3, 4, 5, 6)"
      ]
     },
     "execution_count": 248,
     "metadata": {},
     "output_type": "execute_result"
    }
   ],
   "source": [
    "tuple2 + (4,5,6)"
   ]
  },
  {
   "cell_type": "code",
   "execution_count": 250,
   "id": "8798e253-9d34-4dc8-8522-e044d96e8df5",
   "metadata": {},
   "outputs": [
    {
     "data": {
      "text/plain": [
       "[1, 2, 3, 4, 5, 6]"
      ]
     },
     "execution_count": 250,
     "metadata": {},
     "output_type": "execute_result"
    }
   ],
   "source": [
    "[1,2,3]+[4,5,6]"
   ]
  },
  {
   "cell_type": "code",
   "execution_count": 252,
   "id": "d7327d0c-a829-4660-b336-748969698fdb",
   "metadata": {},
   "outputs": [
    {
     "data": {
      "text/plain": [
       "(100, 200, 3)"
      ]
     },
     "execution_count": 252,
     "metadata": {},
     "output_type": "execute_result"
    }
   ],
   "source": [
    "tuple2"
   ]
  },
  {
   "cell_type": "code",
   "execution_count": 258,
   "id": "bad7c788-804e-4eab-bfde-10d8056b7e35",
   "metadata": {},
   "outputs": [],
   "source": [
    "tuple3 = tuple2 + tuple(list5)"
   ]
  },
  {
   "cell_type": "code",
   "execution_count": 260,
   "id": "49c3145a-1d7b-4c9d-981c-ae4905300ad9",
   "metadata": {},
   "outputs": [
    {
     "data": {
      "text/plain": [
       "(100, 200, 3, 100, 200, 3)"
      ]
     },
     "execution_count": 260,
     "metadata": {},
     "output_type": "execute_result"
    }
   ],
   "source": [
    "tuple3"
   ]
  },
  {
   "cell_type": "code",
   "execution_count": 276,
   "id": "eb70e030-4ef7-42b5-a7cf-8f3754d0fd2f",
   "metadata": {},
   "outputs": [
    {
     "data": {
      "text/plain": [
       "(50, 50.23, 'str', [1, 2, 3], (7, 8, 9), None)"
      ]
     },
     "execution_count": 276,
     "metadata": {},
     "output_type": "execute_result"
    }
   ],
   "source": [
    "(50,50.23,\"str\",[1,2,3,],(7,8,9),None)"
   ]
  },
  {
   "cell_type": "code",
   "execution_count": 268,
   "id": "55c1ed2f-cd95-485b-b65e-1de6fbec4872",
   "metadata": {},
   "outputs": [],
   "source": [
    "a = 10\n",
    "b = 20"
   ]
  },
  {
   "cell_type": "code",
   "execution_count": 270,
   "id": "3277bb5c-fbc0-4959-ab51-a02cf73fe56a",
   "metadata": {},
   "outputs": [],
   "source": [
    "temp = a\n",
    "a = b\n",
    "b = temp "
   ]
  },
  {
   "cell_type": "code",
   "execution_count": 272,
   "id": "41eee626-3de8-4092-944c-dba86b6089a7",
   "metadata": {},
   "outputs": [
    {
     "data": {
      "text/plain": [
       "20"
      ]
     },
     "execution_count": 272,
     "metadata": {},
     "output_type": "execute_result"
    }
   ],
   "source": [
    "a"
   ]
  },
  {
   "cell_type": "code",
   "execution_count": 274,
   "id": "7d0ea674-2b04-42e1-a00a-62fa6e99b5e5",
   "metadata": {},
   "outputs": [
    {
     "data": {
      "text/plain": [
       "10"
      ]
     },
     "execution_count": 274,
     "metadata": {},
     "output_type": "execute_result"
    }
   ],
   "source": [
    "b"
   ]
  },
  {
   "cell_type": "code",
   "execution_count": 278,
   "id": "333a22b1-2535-4f2a-a3cb-aed3460bf956",
   "metadata": {},
   "outputs": [],
   "source": [
    "a = 10\n",
    "b = 20"
   ]
  },
  {
   "cell_type": "code",
   "execution_count": 280,
   "id": "7c39a8dd-e01f-4c69-9fe0-a648e2176ace",
   "metadata": {},
   "outputs": [],
   "source": [
    "a,b = b,a"
   ]
  },
  {
   "cell_type": "code",
   "execution_count": 283,
   "id": "ff9fef02-b0e4-47d1-8229-44793efdc3dd",
   "metadata": {},
   "outputs": [
    {
     "data": {
      "text/plain": [
       "20"
      ]
     },
     "execution_count": 283,
     "metadata": {},
     "output_type": "execute_result"
    }
   ],
   "source": [
    "a"
   ]
  },
  {
   "cell_type": "code",
   "execution_count": 285,
   "id": "f1cc6da1-e671-4a66-a26f-20f448c27105",
   "metadata": {},
   "outputs": [
    {
     "data": {
      "text/plain": [
       "10"
      ]
     },
     "execution_count": 285,
     "metadata": {},
     "output_type": "execute_result"
    }
   ],
   "source": [
    "b"
   ]
  },
  {
   "cell_type": "code",
   "execution_count": 287,
   "id": "d083f67a-4b53-43c1-a2fc-aab602c57a5a",
   "metadata": {},
   "outputs": [],
   "source": [
    "def funcc():\n",
    "    return 25,\"fucg\""
   ]
  },
  {
   "cell_type": "code",
   "execution_count": 289,
   "id": "4cbcc4b2-f1b7-4be6-a432-24753f78eb0c",
   "metadata": {},
   "outputs": [
    {
     "data": {
      "text/plain": [
       "(25, 'fucg')"
      ]
     },
     "execution_count": 289,
     "metadata": {},
     "output_type": "execute_result"
    }
   ],
   "source": [
    "funcc()"
   ]
  },
  {
   "cell_type": "code",
   "execution_count": 291,
   "id": "05391de9-13cb-452c-adcb-01a3dca3e029",
   "metadata": {},
   "outputs": [],
   "source": [
    "bmi,classify = funcc()"
   ]
  },
  {
   "cell_type": "code",
   "execution_count": 293,
   "id": "f68093c7-3c60-4003-9f65-027c4b21dab9",
   "metadata": {},
   "outputs": [
    {
     "data": {
      "text/plain": [
       "25"
      ]
     },
     "execution_count": 293,
     "metadata": {},
     "output_type": "execute_result"
    }
   ],
   "source": [
    "bmi"
   ]
  },
  {
   "cell_type": "code",
   "execution_count": 295,
   "id": "4e841d7c-6462-4436-aa95-d0da70db6621",
   "metadata": {},
   "outputs": [
    {
     "data": {
      "text/plain": [
       "'fucg'"
      ]
     },
     "execution_count": 295,
     "metadata": {},
     "output_type": "execute_result"
    }
   ],
   "source": [
    "classify"
   ]
  },
  {
   "cell_type": "code",
   "execution_count": 299,
   "id": "8fd9eaef-16ec-4b02-b384-3147f47d6744",
   "metadata": {},
   "outputs": [
    {
     "data": {
      "text/plain": [
       "['naynish', 'icloud.com']"
      ]
     },
     "execution_count": 299,
     "metadata": {},
     "output_type": "execute_result"
    }
   ],
   "source": [
    "\"naynish@icloud.com\".split(\"@\")"
   ]
  },
  {
   "cell_type": "code",
   "execution_count": 301,
   "id": "b63ca3dd-166f-4f93-a4b4-bbe3c0e8d90d",
   "metadata": {},
   "outputs": [],
   "source": [
    "username,domain = \"naynish@icloud.com\".split(\"@\")"
   ]
  },
  {
   "cell_type": "code",
   "execution_count": 303,
   "id": "a9aaf82d-253c-44ff-8f00-7c6c139a43ed",
   "metadata": {},
   "outputs": [
    {
     "data": {
      "text/plain": [
       "'naynish'"
      ]
     },
     "execution_count": 303,
     "metadata": {},
     "output_type": "execute_result"
    }
   ],
   "source": [
    "username"
   ]
  },
  {
   "cell_type": "code",
   "execution_count": 305,
   "id": "7f33d070-35ec-4992-8134-964cfd8e9fe0",
   "metadata": {},
   "outputs": [
    {
     "data": {
      "text/plain": [
       "'icloud.com'"
      ]
     },
     "execution_count": 305,
     "metadata": {},
     "output_type": "execute_result"
    }
   ],
   "source": [
    "domain"
   ]
  },
  {
   "cell_type": "code",
   "execution_count": 307,
   "id": "f8665880-effe-422a-8b95-d896566b1923",
   "metadata": {},
   "outputs": [],
   "source": [
    "tuple6 = (50,50.23,\"str\",[1,2,3,],(7,8,9),None)"
   ]
  },
  {
   "cell_type": "code",
   "execution_count": 309,
   "id": "032ec9fb-037c-46ff-adf8-15aa0a5aba98",
   "metadata": {},
   "outputs": [
    {
     "data": {
      "text/plain": [
       "(50.23, 'str')"
      ]
     },
     "execution_count": 309,
     "metadata": {},
     "output_type": "execute_result"
    }
   ],
   "source": [
    "tuple6[1:3]   ##    isme 3rd index ko chor k 2 nd index ko disply krega "
   ]
  },
  {
   "cell_type": "code",
   "execution_count": null,
   "id": "badde760-7eb1-4a0a-abd4-77e3c4d5d4ab",
   "metadata": {},
   "outputs": [],
   "source": [
    "  #######################    only   2 methods   in tuple   1 count and 2 index "
   ]
  },
  {
   "cell_type": "code",
   "execution_count": 311,
   "id": "8998ffae-3431-4a0f-80f0-efb557ddc91f",
   "metadata": {},
   "outputs": [
    {
     "data": {
      "text/plain": [
       "1"
      ]
     },
     "execution_count": 311,
     "metadata": {},
     "output_type": "execute_result"
    }
   ],
   "source": [
    "tuple6.count(50)"
   ]
  },
  {
   "cell_type": "code",
   "execution_count": 317,
   "id": "56f7cd38-ad30-44a0-9aed-ca051f59b009",
   "metadata": {},
   "outputs": [
    {
     "data": {
      "text/plain": [
       "1"
      ]
     },
     "execution_count": 317,
     "metadata": {},
     "output_type": "execute_result"
    }
   ],
   "source": [
    "tuple6.index(50.23)"
   ]
  },
  {
   "cell_type": "code",
   "execution_count": 321,
   "id": "c3ef92d0-43ea-4581-9d7c-d3b53ab3bb80",
   "metadata": {},
   "outputs": [
    {
     "data": {
      "text/plain": [
       "[3, 100, 200]"
      ]
     },
     "execution_count": 321,
     "metadata": {},
     "output_type": "execute_result"
    }
   ],
   "source": [
    "sorted(tuple2)"
   ]
  },
  {
   "cell_type": "code",
   "execution_count": null,
   "id": "ebbdd339-4248-444d-8fe9-62ee08b1f5a3",
   "metadata": {},
   "outputs": [],
   "source": []
  },
  {
   "cell_type": "code",
   "execution_count": null,
   "id": "32eacf69-bea6-429d-90c0-b785c616255e",
   "metadata": {},
   "outputs": [],
   "source": [
    "#################################################   SETS  (permanent change ) ##############################################################"
   ]
  },
  {
   "cell_type": "code",
   "execution_count": null,
   "id": "9fa7cc3d-2956-43f6-abcd-97206c1e11bd",
   "metadata": {},
   "outputs": [],
   "source": []
  },
  {
   "cell_type": "code",
   "execution_count": 333,
   "id": "cced9aa7-7393-41a4-a602-78afb5c1f8fa",
   "metadata": {},
   "outputs": [],
   "source": [
    "set1 = {1,2,3,5,5,854,5,6,45,215,6,1,25}"
   ]
  },
  {
   "cell_type": "code",
   "execution_count": 335,
   "id": "55651640-975e-4372-adb6-6c878508eaa1",
   "metadata": {},
   "outputs": [
    {
     "data": {
      "text/plain": [
       "{1, 2, 3, 5, 6, 25, 45, 215, 854}"
      ]
     },
     "execution_count": 335,
     "metadata": {},
     "output_type": "execute_result"
    }
   ],
   "source": [
    "set1"
   ]
  },
  {
   "cell_type": "code",
   "execution_count": 337,
   "id": "aff357da-2e90-4195-90de-b26a5dee46f1",
   "metadata": {},
   "outputs": [
    {
     "ename": "TypeError",
     "evalue": "'set' object is not subscriptable",
     "output_type": "error",
     "traceback": [
      "\u001b[1;31m---------------------------------------------------------------------------\u001b[0m",
      "\u001b[1;31mTypeError\u001b[0m                                 Traceback (most recent call last)",
      "Cell \u001b[1;32mIn[337], line 1\u001b[0m\n\u001b[1;32m----> 1\u001b[0m set1[\u001b[38;5;241m0\u001b[39m]\n",
      "\u001b[1;31mTypeError\u001b[0m: 'set' object is not subscriptable"
     ]
    }
   ],
   "source": [
    "set1[0]  ##  indexing  not  work its rule"
   ]
  },
  {
   "cell_type": "code",
   "execution_count": 361,
   "id": "2217941b-1b19-450d-bcaa-0c8b0b391946",
   "metadata": {},
   "outputs": [],
   "source": [
    "set1.add(116)"
   ]
  },
  {
   "cell_type": "code",
   "execution_count": 363,
   "id": "15e57f78-97f3-4b4f-be8f-e1d7b5b5c356",
   "metadata": {},
   "outputs": [
    {
     "data": {
      "text/plain": [
       "{1, 2, 3, 5, 6, 45, 116, 215, 854}"
      ]
     },
     "execution_count": 363,
     "metadata": {},
     "output_type": "execute_result"
    }
   ],
   "source": [
    "set1"
   ]
  },
  {
   "cell_type": "code",
   "execution_count": 365,
   "id": "52576cac-caa2-43ee-b4be-b4036929afdd",
   "metadata": {},
   "outputs": [],
   "source": [
    "set1.remove(116)"
   ]
  },
  {
   "cell_type": "code",
   "execution_count": 367,
   "id": "fe763ffd-a274-4e66-98f4-90e729ba8818",
   "metadata": {},
   "outputs": [
    {
     "data": {
      "text/plain": [
       "{1, 2, 3, 5, 6, 45, 215, 854}"
      ]
     },
     "execution_count": 367,
     "metadata": {},
     "output_type": "execute_result"
    }
   ],
   "source": [
    "set1"
   ]
  },
  {
   "cell_type": "code",
   "execution_count": 369,
   "id": "a8364820-9809-4bb1-b89e-6f19b394d551",
   "metadata": {},
   "outputs": [],
   "source": [
    "set1.discard(215)"
   ]
  },
  {
   "cell_type": "code",
   "execution_count": 371,
   "id": "33ac4f50-35f4-4450-b240-0a0ed4e61661",
   "metadata": {},
   "outputs": [
    {
     "data": {
      "text/plain": [
       "{1, 2, 3, 5, 6, 45, 854}"
      ]
     },
     "execution_count": 371,
     "metadata": {},
     "output_type": "execute_result"
    }
   ],
   "source": [
    "set1"
   ]
  },
  {
   "cell_type": "code",
   "execution_count": 373,
   "id": "83e04cc8-5d23-4caf-ad04-eb0d0ddffa1b",
   "metadata": {},
   "outputs": [],
   "source": [
    "set1.discard(854)"
   ]
  },
  {
   "cell_type": "code",
   "execution_count": 375,
   "id": "6fdae5fa-eabd-47d4-b97c-d55830d359b1",
   "metadata": {},
   "outputs": [
    {
     "data": {
      "text/plain": [
       "{1, 2, 3, 5, 6, 45}"
      ]
     },
     "execution_count": 375,
     "metadata": {},
     "output_type": "execute_result"
    }
   ],
   "source": [
    "set1"
   ]
  },
  {
   "cell_type": "code",
   "execution_count": 381,
   "id": "de7a9ec5-b381-40c1-bedf-4424c52d2dbf",
   "metadata": {},
   "outputs": [],
   "source": [
    "seta = {1,2,3,}\n",
    "setb = {3,4,5,}"
   ]
  },
  {
   "cell_type": "code",
   "execution_count": 383,
   "id": "0436bf62-f309-471e-a762-cfb6a266e33e",
   "metadata": {},
   "outputs": [
    {
     "data": {
      "text/plain": [
       "{3}"
      ]
     },
     "execution_count": 383,
     "metadata": {},
     "output_type": "execute_result"
    }
   ],
   "source": [
    "seta.intersection(setb)"
   ]
  },
  {
   "cell_type": "code",
   "execution_count": 385,
   "id": "f8219fce-3bcc-4cc9-bc2a-4316398aef69",
   "metadata": {},
   "outputs": [
    {
     "data": {
      "text/plain": [
       "{3}"
      ]
     },
     "execution_count": 385,
     "metadata": {},
     "output_type": "execute_result"
    }
   ],
   "source": [
    "seta & (setb)"
   ]
  },
  {
   "cell_type": "code",
   "execution_count": 387,
   "id": "62d44547-5cbd-4371-8373-ded3c6b9b412",
   "metadata": {},
   "outputs": [
    {
     "data": {
      "text/plain": [
       "{1, 2, 3, 4, 5}"
      ]
     },
     "execution_count": 387,
     "metadata": {},
     "output_type": "execute_result"
    }
   ],
   "source": [
    "seta.union(setb)   # A U B"
   ]
  },
  {
   "cell_type": "code",
   "execution_count": 389,
   "id": "770e00b0-5600-4495-b93c-f9412583ef5c",
   "metadata": {},
   "outputs": [
    {
     "data": {
      "text/plain": [
       "{1, 2, 3, 4, 5}"
      ]
     },
     "execution_count": 389,
     "metadata": {},
     "output_type": "execute_result"
    }
   ],
   "source": [
    "seta | (setb)   # A U B"
   ]
  },
  {
   "cell_type": "code",
   "execution_count": 391,
   "id": "9c4b2389-a244-407d-80ed-7831f42ad386",
   "metadata": {},
   "outputs": [
    {
     "data": {
      "text/plain": [
       "{1, 2}"
      ]
     },
     "execution_count": 391,
     "metadata": {},
     "output_type": "execute_result"
    }
   ],
   "source": [
    "seta.difference(setb)"
   ]
  },
  {
   "cell_type": "code",
   "execution_count": 393,
   "id": "f761fc48-b8e0-4ba0-a97d-abe8fe228513",
   "metadata": {},
   "outputs": [
    {
     "data": {
      "text/plain": [
       "{4, 5}"
      ]
     },
     "execution_count": 393,
     "metadata": {},
     "output_type": "execute_result"
    }
   ],
   "source": [
    "setb.difference(seta)"
   ]
  },
  {
   "cell_type": "code",
   "execution_count": 395,
   "id": "e2df5395-4e85-44cc-bff9-81055d5a9ce5",
   "metadata": {},
   "outputs": [
    {
     "data": {
      "text/plain": [
       "{1, 2}"
      ]
     },
     "execution_count": 395,
     "metadata": {},
     "output_type": "execute_result"
    }
   ],
   "source": [
    "seta - (setb)"
   ]
  },
  {
   "cell_type": "code",
   "execution_count": 397,
   "id": "849c50a7-9888-4e70-b76f-e848bc62aec8",
   "metadata": {},
   "outputs": [
    {
     "data": {
      "text/plain": [
       "{1, 2, 4, 5}"
      ]
     },
     "execution_count": 397,
     "metadata": {},
     "output_type": "execute_result"
    }
   ],
   "source": [
    "setb.symmetric_difference(seta)"
   ]
  },
  {
   "cell_type": "code",
   "execution_count": 401,
   "id": "e275d576-897d-425e-a67e-312e7d65a9bf",
   "metadata": {},
   "outputs": [],
   "source": [
    "setC = {1,2}\n",
    "setD = {1,2,3}"
   ]
  },
  {
   "cell_type": "code",
   "execution_count": 403,
   "id": "9c2788ff-7961-4ce5-a1a1-ebad22f0c43e",
   "metadata": {},
   "outputs": [
    {
     "data": {
      "text/plain": [
       "True"
      ]
     },
     "execution_count": 403,
     "metadata": {},
     "output_type": "execute_result"
    }
   ],
   "source": [
    "setC<= setD"
   ]
  },
  {
   "cell_type": "code",
   "execution_count": 405,
   "id": "d2f43e8f-861e-4b91-a18d-ab71cfb879fd",
   "metadata": {},
   "outputs": [
    {
     "data": {
      "text/plain": [
       "True"
      ]
     },
     "execution_count": 405,
     "metadata": {},
     "output_type": "execute_result"
    }
   ],
   "source": [
    "setC.issubset(setD)"
   ]
  },
  {
   "cell_type": "code",
   "execution_count": 407,
   "id": "4e4f4165-6f27-41aa-92c2-609c2090d605",
   "metadata": {},
   "outputs": [
    {
     "data": {
      "text/plain": [
       "False"
      ]
     },
     "execution_count": 407,
     "metadata": {},
     "output_type": "execute_result"
    }
   ],
   "source": [
    "setC.issuperset(setD)"
   ]
  },
  {
   "cell_type": "code",
   "execution_count": 409,
   "id": "9f893115-6425-4c15-a902-6db5d65318f8",
   "metadata": {},
   "outputs": [
    {
     "data": {
      "text/plain": [
       "True"
      ]
     },
     "execution_count": 409,
     "metadata": {},
     "output_type": "execute_result"
    }
   ],
   "source": [
    "setD.issuperset(setC)"
   ]
  },
  {
   "cell_type": "code",
   "execution_count": null,
   "id": "39edcbad-1561-448d-b555-c9b10350b68d",
   "metadata": {},
   "outputs": [],
   "source": [
    "##   set ==   remove  dublicates from a LIST :\n",
    "## >>  problem given a list retrn a new list with dublicates removed \n",
    "## >> example  for [1,2,2,3,3,4]    , return [1,2,3,4]"
   ]
  },
  {
   "cell_type": "code",
   "execution_count": 411,
   "id": "96948c2c-e404-46d9-a407-d367eb6d509b",
   "metadata": {},
   "outputs": [],
   "source": [
    "list9 = [1,2,3,3,3,4,4,4,]"
   ]
  },
  {
   "cell_type": "code",
   "execution_count": 413,
   "id": "a1768f63-46b0-4616-840d-1bf3edb15806",
   "metadata": {},
   "outputs": [
    {
     "data": {
      "text/plain": [
       "[1, 2, 3, 4]"
      ]
     },
     "execution_count": 413,
     "metadata": {},
     "output_type": "execute_result"
    }
   ],
   "source": [
    "list(set(list9))"
   ]
  },
  {
   "cell_type": "code",
   "execution_count": 423,
   "id": "4f9bc386-e68e-40a6-83fc-6e5f53032930",
   "metadata": {},
   "outputs": [
    {
     "data": {
      "text/plain": [
       "['the', 'cat', 'and', 'the', 'hat']"
      ]
     },
     "execution_count": 423,
     "metadata": {},
     "output_type": "execute_result"
    }
   ],
   "source": [
    "##   question >>  count distinct words in sentence \n",
    "## problem - given a sentence as a strings return thr count of distinct \n",
    "#Example - \"the cat and the hat\" , retun 4\n",
    "\n",
    "\"the cat and the hat\".split()"
   ]
  },
  {
   "cell_type": "code",
   "execution_count": 425,
   "id": "954fb9dd-49e7-4a3f-89c8-845f7ecd012e",
   "metadata": {},
   "outputs": [
    {
     "data": {
      "text/plain": [
       "{'and', 'cat', 'hat', 'the'}"
      ]
     },
     "execution_count": 425,
     "metadata": {},
     "output_type": "execute_result"
    }
   ],
   "source": [
    "set(\"the cat and the hat\".split())"
   ]
  },
  {
   "cell_type": "code",
   "execution_count": 421,
   "id": "e13f0850-87a5-471f-af40-da5758017999",
   "metadata": {},
   "outputs": [
    {
     "data": {
      "text/plain": [
       "4"
      ]
     },
     "execution_count": 421,
     "metadata": {},
     "output_type": "execute_result"
    }
   ],
   "source": [
    "len(set(\"the cat and the hat\".split()))\n"
   ]
  },
  {
   "cell_type": "code",
   "execution_count": null,
   "id": "d97020c8-1f4a-4f4b-bdff-2ade6d731cbb",
   "metadata": {},
   "outputs": [],
   "source": [
    "##  question - find common elements between two list \n",
    "# problem - given two lists, find and return their interesection (common elements)\n",
    "# example - for [1,2,3,]  and [2,3,4], the return {2,3}"
   ]
  },
  {
   "cell_type": "code",
   "execution_count": 433,
   "id": "9c120111-712f-412d-82a8-5f7313cdc7fc",
   "metadata": {},
   "outputs": [
    {
     "data": {
      "text/plain": [
       "{2, 3, 4}"
      ]
     },
     "execution_count": 433,
     "metadata": {},
     "output_type": "execute_result"
    }
   ],
   "source": [
    "ABC = [1,2,3]\n",
    "QWE = [2,3,4]\n",
    "set(ABC)\n",
    "set(QWE)\n"
   ]
  },
  {
   "cell_type": "code",
   "execution_count": 459,
   "id": "aa06f2d6-94ad-4b67-9dca-ea83d0076f11",
   "metadata": {},
   "outputs": [
    {
     "data": {
      "text/plain": [
       "{2, 3}"
      ]
     },
     "execution_count": 459,
     "metadata": {},
     "output_type": "execute_result"
    }
   ],
   "source": [
    "##   sir ans \n",
    "\n",
    "set([1,2,3]).intersection(set([2,3,4]))"
   ]
  },
  {
   "cell_type": "code",
   "execution_count": 443,
   "id": "5202970f-cd20-4e62-9dc7-a27a62a46a66",
   "metadata": {},
   "outputs": [
    {
     "data": {
      "text/plain": [
       "{2, 3}"
      ]
     },
     "execution_count": 443,
     "metadata": {},
     "output_type": "execute_result"
    }
   ],
   "source": [
    "set(ABC).intersection(set(QWE))"
   ]
  },
  {
   "cell_type": "code",
   "execution_count": 453,
   "id": "5b8be863-531f-4cc8-885a-b483d9518ed5",
   "metadata": {},
   "outputs": [],
   "source": [
    "QQQ = {1,2,3,}\n",
    "WWW = {2,3,4}"
   ]
  },
  {
   "cell_type": "code",
   "execution_count": 455,
   "id": "1da4ae1b-f1a5-4f32-b026-3fd0aab97669",
   "metadata": {},
   "outputs": [
    {
     "data": {
      "text/plain": [
       "{2, 3}"
      ]
     },
     "execution_count": 455,
     "metadata": {},
     "output_type": "execute_result"
    }
   ],
   "source": [
    "QQQ & (WWW)"
   ]
  },
  {
   "cell_type": "code",
   "execution_count": 457,
   "id": "ad342a2f-5e90-483c-a449-6ca6ce8babfa",
   "metadata": {},
   "outputs": [
    {
     "data": {
      "text/plain": [
       "{2, 3}"
      ]
     },
     "execution_count": 457,
     "metadata": {},
     "output_type": "execute_result"
    }
   ],
   "source": [
    "QQQ.intersection(WWW)"
   ]
  },
  {
   "cell_type": "code",
   "execution_count": null,
   "id": "69b14d9b-8fb7-4827-ba9e-88614cb6733a",
   "metadata": {},
   "outputs": [],
   "source": [
    "############################################  Dictionory  own index  ############################################### "
   ]
  },
  {
   "cell_type": "code",
   "execution_count": null,
   "id": "620da547-5f10-41d5-a83b-af60d413d73c",
   "metadata": {},
   "outputs": [],
   "source": [
    "list4 = [1,2,3,]"
   ]
  },
  {
   "cell_type": "code",
   "execution_count": 1,
   "id": "ac7b7b56-f1c4-4613-80c8-68f6cbc98ae4",
   "metadata": {},
   "outputs": [],
   "source": [
    "dictio = {\n",
    "    \"key1\":\"value1\",\n",
    "    \"key2\":\"value2\"\n",
    "}"
   ]
  },
  {
   "cell_type": "code",
   "execution_count": 3,
   "id": "ab25a659-3bd8-4026-bbe1-495d61143ec4",
   "metadata": {},
   "outputs": [
    {
     "data": {
      "text/plain": [
       "dict"
      ]
     },
     "execution_count": 3,
     "metadata": {},
     "output_type": "execute_result"
    }
   ],
   "source": [
    "type(dictio)"
   ]
  },
  {
   "cell_type": "code",
   "execution_count": 28,
   "id": "f84967bb-ebc0-4c9a-881e-534afa032977",
   "metadata": {},
   "outputs": [],
   "source": [
    "state_wise_data = {\n",
    "    \"Delhi\":1000,\n",
    "    \"Maharashtra\":500,\n",
    "    \"UP\":100,\n",
    "    \"UP\":102\n",
    "}"
   ]
  },
  {
   "cell_type": "code",
   "execution_count": 14,
   "id": "bad66916-ba14-4d32-97f3-bcbff5544e17",
   "metadata": {},
   "outputs": [
    {
     "data": {
      "text/plain": [
       "500"
      ]
     },
     "execution_count": 14,
     "metadata": {},
     "output_type": "execute_result"
    }
   ],
   "source": [
    "state_wise_data[\"Maharashtra\"]"
   ]
  },
  {
   "cell_type": "code",
   "execution_count": 24,
   "id": "513947c9-993a-440e-942c-45ae6ed52036",
   "metadata": {},
   "outputs": [],
   "source": [
    "a = {}"
   ]
  },
  {
   "cell_type": "code",
   "execution_count": 26,
   "id": "07ee1960-37ec-4029-b900-bc3ea6aa974b",
   "metadata": {},
   "outputs": [
    {
     "data": {
      "text/plain": [
       "dict"
      ]
     },
     "execution_count": 26,
     "metadata": {},
     "output_type": "execute_result"
    }
   ],
   "source": [
    "type(a)"
   ]
  },
  {
   "cell_type": "code",
   "execution_count": 18,
   "id": "30e41b04-c464-4e79-af49-781c9254fe87",
   "metadata": {},
   "outputs": [],
   "source": [
    "b = set()"
   ]
  },
  {
   "cell_type": "code",
   "execution_count": 20,
   "id": "228cd8f5-3fc8-4ed4-926b-d431ab68ec19",
   "metadata": {},
   "outputs": [
    {
     "data": {
      "text/plain": [
       "set"
      ]
     },
     "execution_count": 20,
     "metadata": {},
     "output_type": "execute_result"
    }
   ],
   "source": [
    "type(b)"
   ]
  },
  {
   "cell_type": "code",
   "execution_count": 30,
   "id": "9715f820-bf52-431f-955f-84dd621cb1cb",
   "metadata": {},
   "outputs": [
    {
     "data": {
      "text/plain": [
       "102"
      ]
     },
     "execution_count": 30,
     "metadata": {},
     "output_type": "execute_result"
    }
   ],
   "source": [
    "state_wise_data[\"UP\"]"
   ]
  },
  {
   "cell_type": "code",
   "execution_count": 32,
   "id": "fb763bb1-72e2-4180-a085-381351a860d4",
   "metadata": {},
   "outputs": [
    {
     "data": {
      "text/plain": [
       "{'Delhi': 1000, 'Maharashtra': 500, 'UP': 102}"
      ]
     },
     "execution_count": 32,
     "metadata": {},
     "output_type": "execute_result"
    }
   ],
   "source": [
    "state_wise_data"
   ]
  },
  {
   "cell_type": "code",
   "execution_count": 46,
   "id": "8169a2d1-38b1-4ac3-9ed2-5893aa83ecd0",
   "metadata": {},
   "outputs": [],
   "source": [
    "##  update \n",
    "state_wise_data[\"Maharashtra\"] = 600"
   ]
  },
  {
   "cell_type": "code",
   "execution_count": 48,
   "id": "1401725b-7412-43fd-b193-5c545e84e62d",
   "metadata": {},
   "outputs": [
    {
     "data": {
      "text/plain": [
       "{'Delhi': 1000, 'Maharashtra': 600, 'UP': 102, 'maharashtra': 600}"
      ]
     },
     "execution_count": 48,
     "metadata": {},
     "output_type": "execute_result"
    }
   ],
   "source": [
    "state_wise_data"
   ]
  },
  {
   "cell_type": "code",
   "execution_count": 50,
   "id": "3dd54847-7e91-457a-9dde-06d645e204d4",
   "metadata": {},
   "outputs": [],
   "source": [
    "## Add new \n",
    "state_wise_data[\"Tamilnadu\"] = 700"
   ]
  },
  {
   "cell_type": "code",
   "execution_count": 52,
   "id": "876400b8-5c05-451b-b7d2-59bfaad400bd",
   "metadata": {},
   "outputs": [
    {
     "data": {
      "text/plain": [
       "{'Delhi': 1000,\n",
       " 'Maharashtra': 600,\n",
       " 'UP': 102,\n",
       " 'maharashtra': 600,\n",
       " 'Tamilnadu': 700}"
      ]
     },
     "execution_count": 52,
     "metadata": {},
     "output_type": "execute_result"
    }
   ],
   "source": [
    "state_wise_data"
   ]
  },
  {
   "cell_type": "code",
   "execution_count": 62,
   "id": "8bcfa2a2-e29d-4938-a557-9a089bd06225",
   "metadata": {},
   "outputs": [],
   "source": [
    "state_wise_data = {\n",
    "    \"Delhi\":1000,\n",
    "    \"Maharashtra\":500,\n",
    "    \"UP\":102\n",
    "}"
   ]
  },
  {
   "cell_type": "code",
   "execution_count": 64,
   "id": "d51551d4-55a2-46bd-8354-fd78047baa54",
   "metadata": {},
   "outputs": [
    {
     "ename": "KeyError",
     "evalue": "'MP'",
     "output_type": "error",
     "traceback": [
      "\u001b[1;31m---------------------------------------------------------------------------\u001b[0m",
      "\u001b[1;31mKeyError\u001b[0m                                  Traceback (most recent call last)",
      "Cell \u001b[1;32mIn[64], line 1\u001b[0m\n\u001b[1;32m----> 1\u001b[0m state_wise_data[\u001b[38;5;124m\"\u001b[39m\u001b[38;5;124mMP\u001b[39m\u001b[38;5;124m\"\u001b[39m]\n",
      "\u001b[1;31mKeyError\u001b[0m: 'MP'"
     ]
    }
   ],
   "source": [
    "state_wise_data[\"MP\"]"
   ]
  },
  {
   "cell_type": "code",
   "execution_count": 72,
   "id": "35b28f4f-0808-4fc8-a32b-6a1d3f01813f",
   "metadata": {},
   "outputs": [
    {
     "data": {
      "text/plain": [
       "'NOT'"
      ]
     },
     "execution_count": 72,
     "metadata": {},
     "output_type": "execute_result"
    }
   ],
   "source": [
    "state_wise_data.get(\"MP\",\"NOT\")"
   ]
  },
  {
   "cell_type": "code",
   "execution_count": 76,
   "id": "7c99bda3-99c5-4dd2-b17e-7976780b3f7e",
   "metadata": {},
   "outputs": [
    {
     "data": {
      "text/plain": [
       "102"
      ]
     },
     "execution_count": 76,
     "metadata": {},
     "output_type": "execute_result"
    }
   ],
   "source": [
    "state_wise_data.pop(\"UP\")    #  iske bich me jo item hatani h wo enter kr skte hai popitem me nhi hota hai aisa bich me koi bhi value enter nhi kr skte wo direct last item delete krta hai "
   ]
  },
  {
   "cell_type": "code",
   "execution_count": 78,
   "id": "4bab0f6a-2263-4e3b-9886-f1f9ea7ff5c8",
   "metadata": {},
   "outputs": [
    {
     "data": {
      "text/plain": [
       "{'Delhi': 1000, 'Maharashtra': 500}"
      ]
     },
     "execution_count": 78,
     "metadata": {},
     "output_type": "execute_result"
    }
   ],
   "source": [
    "state_wise_data"
   ]
  },
  {
   "cell_type": "code",
   "execution_count": 80,
   "id": "0accafd9-6fb2-47fd-96df-7f652492d84e",
   "metadata": {},
   "outputs": [
    {
     "data": {
      "text/plain": [
       "('Maharashtra', 500)"
      ]
     },
     "execution_count": 80,
     "metadata": {},
     "output_type": "execute_result"
    }
   ],
   "source": [
    "state_wise_data.popitem()  ## popitem me nhi hota hai aisa bich me koi bhi value enter nhi kr skte wo direct last item delete krta hai "
   ]
  },
  {
   "cell_type": "code",
   "execution_count": 82,
   "id": "a618d47f-c028-48df-85a4-9716b26620c9",
   "metadata": {},
   "outputs": [
    {
     "data": {
      "text/plain": [
       "{'Delhi': 1000}"
      ]
     },
     "execution_count": 82,
     "metadata": {},
     "output_type": "execute_result"
    }
   ],
   "source": [
    "state_wise_data"
   ]
  },
  {
   "cell_type": "code",
   "execution_count": 84,
   "id": "dbbf75dc-8935-469b-bbf3-ab638921dda7",
   "metadata": {},
   "outputs": [],
   "source": [
    "del state_wise_data[\"Delhi\"]"
   ]
  },
  {
   "cell_type": "code",
   "execution_count": 86,
   "id": "47d7604e-4063-4735-a14c-50b5022097a2",
   "metadata": {},
   "outputs": [
    {
     "data": {
      "text/plain": [
       "{}"
      ]
     },
     "execution_count": 86,
     "metadata": {},
     "output_type": "execute_result"
    }
   ],
   "source": [
    "state_wise_data"
   ]
  },
  {
   "cell_type": "code",
   "execution_count": 90,
   "id": "206d33db-7e7e-478d-bd7e-56ad0be11e1c",
   "metadata": {},
   "outputs": [],
   "source": [
    "state_wise_data = {\n",
    "    \"Delhi\":1000,\n",
    "    \"Maharashtra\":500,\n",
    "    \"UP\":100,\n",
    "}"
   ]
  },
  {
   "cell_type": "code",
   "execution_count": 92,
   "id": "d0948033-7f4f-4c4f-8534-5a627185e0c3",
   "metadata": {},
   "outputs": [
    {
     "data": {
      "text/plain": [
       "{'Delhi': 1000, 'Maharashtra': 500, 'UP': 100}"
      ]
     },
     "execution_count": 92,
     "metadata": {},
     "output_type": "execute_result"
    }
   ],
   "source": [
    "state_wise_data"
   ]
  },
  {
   "cell_type": "code",
   "execution_count": 96,
   "id": "88fd5209-7a09-4f63-aa12-0a9d1860c5a5",
   "metadata": {},
   "outputs": [
    {
     "data": {
      "text/plain": [
       "dict_keys(['Delhi', 'Maharashtra', 'UP'])"
      ]
     },
     "execution_count": 96,
     "metadata": {},
     "output_type": "execute_result"
    }
   ],
   "source": [
    "state_wise_data.keys()"
   ]
  },
  {
   "cell_type": "code",
   "execution_count": 98,
   "id": "84da85e4-8b36-4fbb-9720-b361cc4a8dac",
   "metadata": {},
   "outputs": [
    {
     "data": {
      "text/plain": [
       "dict_values([1000, 500, 100])"
      ]
     },
     "execution_count": 98,
     "metadata": {},
     "output_type": "execute_result"
    }
   ],
   "source": [
    "state_wise_data.values()"
   ]
  },
  {
   "cell_type": "code",
   "execution_count": 100,
   "id": "09935b5f-1a1b-4bef-92d2-cafafeba512c",
   "metadata": {},
   "outputs": [
    {
     "data": {
      "text/plain": [
       "dict_items([('Delhi', 1000), ('Maharashtra', 500), ('UP', 100)])"
      ]
     },
     "execution_count": 100,
     "metadata": {},
     "output_type": "execute_result"
    }
   ],
   "source": [
    "state_wise_data.items()"
   ]
  },
  {
   "cell_type": "code",
   "execution_count": null,
   "id": "89063136-3da0-46b4-8c06-bdc624066699",
   "metadata": {},
   "outputs": [],
   "source": [
    "##  Q - "
   ]
  },
  {
   "cell_type": "code",
   "execution_count": 127,
   "id": "270af854-0d0b-4fc5-9f78-451a04c109eb",
   "metadata": {},
   "outputs": [],
   "source": [
    "a = {\n",
    "    \"A\":4,\n",
    "    \"B\":5,\n",
    "    \"C\":6\n",
    "}"
   ]
  },
  {
   "cell_type": "code",
   "execution_count": 129,
   "id": "c5d6849f-bc85-46a1-a3f0-64ef98416f1d",
   "metadata": {},
   "outputs": [],
   "source": [
    "b={\n",
    "    \"B\":1,\n",
    "    \"D\":20\n",
    "}"
   ]
  },
  {
   "cell_type": "code",
   "execution_count": 116,
   "id": "c836658b-540a-4105-bdd6-a9930096374b",
   "metadata": {},
   "outputs": [],
   "source": [
    "a.update(b)"
   ]
  },
  {
   "cell_type": "code",
   "execution_count": 118,
   "id": "12cda2a0-9320-4a67-8ff4-834a11d90a23",
   "metadata": {},
   "outputs": [
    {
     "data": {
      "text/plain": [
       "{'A': 4, 'B': 1, 'C': 6, 'D': 20}"
      ]
     },
     "execution_count": 118,
     "metadata": {},
     "output_type": "execute_result"
    }
   ],
   "source": [
    "a"
   ]
  },
  {
   "cell_type": "code",
   "execution_count": 131,
   "id": "700a250e-7238-4988-98ac-ce70edf2892b",
   "metadata": {},
   "outputs": [
    {
     "data": {
      "text/plain": [
       "{'B': 5, 'D': 20, 'A': 4, 'C': 6}"
      ]
     },
     "execution_count": 131,
     "metadata": {},
     "output_type": "execute_result"
    }
   ],
   "source": [
    "b | a"
   ]
  },
  {
   "cell_type": "code",
   "execution_count": 133,
   "id": "60e71aa6-15c6-4930-a29e-58182cd18569",
   "metadata": {},
   "outputs": [
    {
     "data": {
      "text/plain": [
       "{'Delhi': 1000, 'Maharashtra': 500, 'UP': 100}"
      ]
     },
     "execution_count": 133,
     "metadata": {},
     "output_type": "execute_result"
    }
   ],
   "source": [
    "state_wise_data"
   ]
  },
  {
   "cell_type": "code",
   "execution_count": 135,
   "id": "2c9aa453-bb9c-4a92-b873-7cb3be1dc421",
   "metadata": {},
   "outputs": [
    {
     "name": "stdout",
     "output_type": "stream",
     "text": [
      "Delhi\n",
      "Maharashtra\n",
      "UP\n"
     ]
    }
   ],
   "source": [
    "for i in state_wise_data:\n",
    "    print(i)"
   ]
  },
  {
   "cell_type": "code",
   "execution_count": 137,
   "id": "f33652e6-36d9-4353-a888-eb670fd62551",
   "metadata": {},
   "outputs": [
    {
     "name": "stdout",
     "output_type": "stream",
     "text": [
      "1000\n",
      "500\n",
      "100\n"
     ]
    }
   ],
   "source": [
    "for i in state_wise_data:\n",
    "    print(state_wise_data[i])"
   ]
  },
  {
   "cell_type": "code",
   "execution_count": 139,
   "id": "2736914e-f1c5-4760-8e97-b0d1ec6ff571",
   "metadata": {},
   "outputs": [
    {
     "name": "stdout",
     "output_type": "stream",
     "text": [
      "Delhi\n",
      "Maharashtra\n",
      "UP\n"
     ]
    }
   ],
   "source": [
    "for i in state_wise_data.keys():\n",
    "    print (i)"
   ]
  },
  {
   "cell_type": "code",
   "execution_count": 141,
   "id": "0974437a-2a1b-4947-9472-cf8884f7874d",
   "metadata": {},
   "outputs": [
    {
     "name": "stdout",
     "output_type": "stream",
     "text": [
      "1000\n",
      "500\n",
      "100\n"
     ]
    }
   ],
   "source": [
    "for i in state_wise_data.values():\n",
    "    print (i)"
   ]
  },
  {
   "cell_type": "code",
   "execution_count": 153,
   "id": "cbdffb7d-f853-4ac7-8406-541ae39b5552",
   "metadata": {},
   "outputs": [
    {
     "name": "stdout",
     "output_type": "stream",
     "text": [
      "Delhi 1000\n",
      "Maharashtra 500\n",
      "UP 100\n"
     ]
    }
   ],
   "source": [
    "for key,value in state_wise_data.items():\n",
    "    print (key,value)"
   ]
  },
  {
   "cell_type": "code",
   "execution_count": null,
   "id": "75874dc4-e340-4175-a045-a59a688bf36d",
   "metadata": {},
   "outputs": [],
   "source": [
    "\"rrsssstttt\".count()"
   ]
  },
  {
   "cell_type": "code",
   "execution_count": 173,
   "id": "6c5eb0e6-288c-405f-b3ec-be86eb8f4935",
   "metadata": {},
   "outputs": [],
   "source": [
    "def character_count(strrr):\n",
    "    result = {}\n",
    "    unique_char = set(strrr)\n",
    "    for i in unique_char:\n",
    "        result[i] = strrr.count(i)\n",
    "    return result"
   ]
  },
  {
   "cell_type": "code",
   "execution_count": 175,
   "id": "32984b6b-cf80-497e-869b-55dfe1ed6e8e",
   "metadata": {},
   "outputs": [
    {
     "data": {
      "text/plain": [
       "{'t': 4, 'r': 2, 's': 4}"
      ]
     },
     "execution_count": 175,
     "metadata": {},
     "output_type": "execute_result"
    }
   ],
   "source": [
    "character_count(\"rrsssstttt\")"
   ]
  },
  {
   "cell_type": "code",
   "execution_count": 195,
   "id": "725dd9ab-a3eb-4224-84aa-6a024f8f3cf1",
   "metadata": {},
   "outputs": [
    {
     "data": {
      "text/plain": [
       "4"
      ]
     },
     "execution_count": 195,
     "metadata": {},
     "output_type": "execute_result"
    }
   ],
   "source": [
    "\"rrsssstttt\".count(\"s\")"
   ]
  },
  {
   "cell_type": "code",
   "execution_count": 197,
   "id": "6ebe0790-0799-4a66-96fc-b1c3e7580bd0",
   "metadata": {},
   "outputs": [
    {
     "data": {
      "text/plain": [
       "{'r', 's', 't'}"
      ]
     },
     "execution_count": 197,
     "metadata": {},
     "output_type": "execute_result"
    }
   ],
   "source": [
    "set(\"rrsssstttt\")"
   ]
  },
  {
   "cell_type": "code",
   "execution_count": null,
   "id": "7e76f1a7-0321-41ab-97c0-8fc0a0b71a72",
   "metadata": {},
   "outputs": [],
   "source": [
    "###   create a function that merge two dict . if there are dublicates keys , sum their values.\n",
    "## dict - {'a':1,'b':2}\n",
    "## dict2 - {'b':3,'c':4}\n",
    "\n",
    "# "
   ]
  },
  {
   "cell_type": "code",
   "execution_count": 209,
   "id": "cfa8808a-0489-4484-9e72-f9a5d3a66f58",
   "metadata": {},
   "outputs": [],
   "source": [
    "###   shalow copy and deep copy \n",
    "\n",
    "dict = {'a':1,'b':2}  ## same rhega  copy k case me   agr deepcopy hota hai to yaha change ho jayega \n",
    "dict2 = {'b':3,'c':4}\n"
   ]
  },
  {
   "cell_type": "code",
   "execution_count": 234,
   "id": "bbf54c8d-5e26-4a4b-b963-823d7df3b315",
   "metadata": {},
   "outputs": [],
   "source": [
    "dict1 = {'a':1,'b':2}    \n",
    "dict2 = {'b':3,'c':4}"
   ]
  },
  {
   "cell_type": "code",
   "execution_count": 240,
   "id": "8d2846ff-54d5-4391-bd5a-c658826e9ca2",
   "metadata": {},
   "outputs": [],
   "source": [
    "def merge_dict(dict1,dict2):\n",
    "    dict1_copy = dict1.copy()\n",
    "    for key,value in dict2.items():\n",
    "        if key in dict1_copy:\n",
    "            dict1_copy[key] += value\n",
    "        else:\n",
    "            dict1_copy[key] = value\n",
    "    return dict1_copy"
   ]
  },
  {
   "cell_type": "code",
   "execution_count": 242,
   "id": "917f5e5d-46e2-4a19-b557-7e1dfe383130",
   "metadata": {},
   "outputs": [
    {
     "data": {
      "text/plain": [
       "{'a': 1, 'b': 5, 'c': 4}"
      ]
     },
     "execution_count": 242,
     "metadata": {},
     "output_type": "execute_result"
    }
   ],
   "source": [
    "merge_dict(dict1,dict2)"
   ]
  },
  {
   "cell_type": "code",
   "execution_count": 244,
   "id": "21960ccd-ec0c-4377-99d2-34a00841a805",
   "metadata": {},
   "outputs": [],
   "source": [
    "def inverted_dict(dict1):\n",
    "    d_new = {}\n",
    "    for key,value in dict1.items():\n",
    "        d_new[value] = key\n",
    "    return d_new"
   ]
  },
  {
   "cell_type": "code",
   "execution_count": 248,
   "id": "98df52e1-c6ae-458d-9fff-b126296ab713",
   "metadata": {},
   "outputs": [
    {
     "data": {
      "text/plain": [
       "{1: 'a', 2: 'b'}"
      ]
     },
     "execution_count": 248,
     "metadata": {},
     "output_type": "execute_result"
    }
   ],
   "source": [
    "inverted_dict(dict1)"
   ]
  },
  {
   "cell_type": "code",
   "execution_count": 250,
   "id": "323112ed-f5d5-4f89-950c-402861fbc7c9",
   "metadata": {},
   "outputs": [
    {
     "data": {
      "text/plain": [
       "{'a': 1, 'b': 2}"
      ]
     },
     "execution_count": 250,
     "metadata": {},
     "output_type": "execute_result"
    }
   ],
   "source": [
    "dict1"
   ]
  },
  {
   "cell_type": "code",
   "execution_count": 252,
   "id": "2cf2ae40-818d-473c-b6a3-da938f923031",
   "metadata": {},
   "outputs": [],
   "source": [
    "def inverted_dict2(dict1):\n",
    "    return {value:key for key,value in dict1.items()}"
   ]
  },
  {
   "cell_type": "code",
   "execution_count": 254,
   "id": "cfa298b5-f675-4460-a0e7-902cfc5b5330",
   "metadata": {
    "scrolled": true
   },
   "outputs": [
    {
     "data": {
      "text/plain": [
       "{1: 'a', 2: 'b'}"
      ]
     },
     "execution_count": 254,
     "metadata": {},
     "output_type": "execute_result"
    }
   ],
   "source": [
    "inverted_dict2(dict1)"
   ]
  },
  {
   "cell_type": "code",
   "execution_count": null,
   "id": "5f67aff5-d670-435b-843a-006e69517e3b",
   "metadata": {},
   "outputs": [],
   "source": [
    "###  Q   anagrams \n"
   ]
  },
  {
   "cell_type": "code",
   "execution_count": 262,
   "id": "1ab0c9a1-ff24-4c6d-a84e-34c20bfea868",
   "metadata": {},
   "outputs": [
    {
     "data": {
      "text/plain": [
       "('a', 'e', 't')"
      ]
     },
     "execution_count": 262,
     "metadata": {},
     "output_type": "execute_result"
    }
   ],
   "source": [
    "tuple(sorted(\"tea\"))"
   ]
  },
  {
   "cell_type": "code",
   "execution_count": 277,
   "id": "7dea6465-c505-4e19-b21b-6c3dce3a8049",
   "metadata": {},
   "outputs": [],
   "source": [
    "def groupana(words):\n",
    "    ana={}\n",
    "    for word in words:\n",
    "        key=tuple(sorted(word))\n",
    "        if key in ana:\n",
    "            ana[key].append(word)\n",
    "        else:\n",
    "            ana[key]=[word]\n",
    "    return list(ana.values())\n",
    "    #return ana\n",
    "    #return list(ana.values())"
   ]
  },
  {
   "cell_type": "code",
   "execution_count": 279,
   "id": "b7ac496c-3e2f-45a3-946f-2e1e58a82071",
   "metadata": {},
   "outputs": [
    {
     "data": {
      "text/plain": [
       "[['eat', 'tea', 'ate'], ['tan', 'nat'], ['bat']]"
      ]
     },
     "execution_count": 279,
     "metadata": {},
     "output_type": "execute_result"
    }
   ],
   "source": [
    "groupana([\"eat\",\"tea\",\"tan\",\"ate\",\"nat\",\"bat\"])"
   ]
  },
  {
   "cell_type": "code",
   "execution_count": null,
   "id": "ae78bb81-5967-4ddc-bf06-deaaf0404a60",
   "metadata": {},
   "outputs": [],
   "source": [
    "### Explore # print   find dublicates ([4,3,2,5,2,3,4,3,])  output [2,3]"
   ]
  },
  {
   "cell_type": "code",
   "execution_count": 35,
   "id": "1686d363-a356-49da-927d-b6fcc7dd9730",
   "metadata": {},
   "outputs": [],
   "source": [
    "def find_dublicates(list8):\n",
    "    count={}\n",
    "    dublicates = set()\n",
    "    for num in list8:\n",
    "        if num in count:\n",
    "            dublicates.add(num)\n",
    "        else:\n",
    "            count[num] = 1\n",
    "    return list(set(dublicates))"
   ]
  },
  {
   "cell_type": "code",
   "execution_count": 37,
   "id": "4a4aaf69-c7a1-4860-864b-f69333d6ae0e",
   "metadata": {},
   "outputs": [
    {
     "name": "stdout",
     "output_type": "stream",
     "text": [
      "[2, 3, 4]\n"
     ]
    }
   ],
   "source": [
    "print(find_dublicates([4,3,2,5,2,3,4,3,]))"
   ]
  },
  {
   "cell_type": "code",
   "execution_count": 41,
   "id": "44b545e9-c2bf-4523-8051-ed4a73019773",
   "metadata": {},
   "outputs": [],
   "source": [
    "def find_dublicates(list8):\n",
    "    count={}\n",
    "    dublicates = []\n",
    "    for num in list8:\n",
    "        if num in count:\n",
    "            dublicates.append(num)\n",
    "        else:\n",
    "            count[num] = 1\n",
    "    return dublicates"
   ]
  },
  {
   "cell_type": "code",
   "execution_count": 43,
   "id": "3cf4d835-bb9b-4858-abad-fca527e4b0fc",
   "metadata": {},
   "outputs": [
    {
     "name": "stdout",
     "output_type": "stream",
     "text": [
      "[2, 3, 4, 3]\n"
     ]
    }
   ],
   "source": [
    "print(find_dublicates([4,3,2,5,2,3,4,3,]))"
   ]
  },
  {
   "cell_type": "code",
   "execution_count": 47,
   "id": "93757308-e8ad-4519-8a1c-4bf4f51ad825",
   "metadata": {},
   "outputs": [
    {
     "data": {
      "text/plain": [
       "2"
      ]
     },
     "execution_count": 47,
     "metadata": {},
     "output_type": "execute_result"
    }
   ],
   "source": [
    "[4,3,2,5,2,3,4,3,].count(4)"
   ]
  },
  {
   "cell_type": "code",
   "execution_count": 57,
   "id": "341f39ab-51bf-48d8-a8c8-943f18527f98",
   "metadata": {},
   "outputs": [],
   "source": [
    " ##  combine \n",
    "firstname = [\"john\",\"jane\",\"jim\"]\n",
    "lastname = [\"doe\",\"smith\",\"beam\"]"
   ]
  },
  {
   "cell_type": "code",
   "execution_count": 71,
   "id": "0b7cd101-20e1-44c3-a571-37a0ac661e3d",
   "metadata": {},
   "outputs": [],
   "source": [
    "def concat(firstname,lastname):\n",
    "    fullname=[]\n",
    "    for i in range(len(firstname)):\n",
    "        fullname.append(firstname[i]+\" \"+lastname[i])\n",
    "    return fullname"
   ]
  },
  {
   "cell_type": "code",
   "execution_count": 73,
   "id": "15fbe6cb-8b3c-4135-b073-c98b42338801",
   "metadata": {},
   "outputs": [
    {
     "data": {
      "text/plain": [
       "['john doe', 'jane smith', 'jim beam']"
      ]
     },
     "execution_count": 73,
     "metadata": {},
     "output_type": "execute_result"
    }
   ],
   "source": [
    "concat(firstname,lastname)\n"
   ]
  },
  {
   "cell_type": "code",
   "execution_count": 75,
   "id": "39dbb6c6-3a11-45fb-ad79-c9a6d6406397",
   "metadata": {},
   "outputs": [
    {
     "data": {
      "text/plain": [
       "['john doe', 'jane smith', 'jim beam']"
      ]
     },
     "execution_count": 75,
     "metadata": {},
     "output_type": "execute_result"
    }
   ],
   "source": [
    "list(map(lambda x,y:f\"{x} {y}\",firstname,lastname))"
   ]
  },
  {
   "cell_type": "code",
   "execution_count": 93,
   "id": "8c48b6dc-0da3-4e76-9576-98b5f0b5f1bb",
   "metadata": {},
   "outputs": [],
   "source": [
    "##  Q \n",
    "original = {\"a\":1,\"b\":2,\"c\":3}"
   ]
  },
  {
   "cell_type": "code",
   "execution_count": 98,
   "id": "c35022e6-7a0e-4edc-8c24-a199ca9cb12c",
   "metadata": {},
   "outputs": [],
   "source": [
    "def abc(num):\n",
    "    return {key:value*2 for key,value in num.items()}"
   ]
  },
  {
   "cell_type": "code",
   "execution_count": 108,
   "id": "aafbc554-f217-4ece-86a7-205c84e725d4",
   "metadata": {},
   "outputs": [
    {
     "data": {
      "text/plain": [
       "{'a': 2, 'b': 4, 'c': 6}"
      ]
     },
     "execution_count": 108,
     "metadata": {},
     "output_type": "execute_result"
    }
   ],
   "source": [
    "abc(original)"
   ]
  },
  {
   "cell_type": "code",
   "execution_count": 112,
   "id": "099f4827-41da-40e7-8639-37ba53817f78",
   "metadata": {},
   "outputs": [],
   "source": [
    "double = {key:value*2 for key,value in original.items()}"
   ]
  },
  {
   "cell_type": "code",
   "execution_count": 114,
   "id": "8afa0ad3-fbf8-4c22-9e5c-d8086868b3bb",
   "metadata": {},
   "outputs": [
    {
     "data": {
      "text/plain": [
       "{'a': 2, 'b': 4, 'c': 6}"
      ]
     },
     "execution_count": 114,
     "metadata": {},
     "output_type": "execute_result"
    }
   ],
   "source": [
    "double"
   ]
  },
  {
   "cell_type": "code",
   "execution_count": null,
   "id": "1fa84f90-3df9-41a1-96aa-4a62a0cf9278",
   "metadata": {},
   "outputs": [],
   "source": []
  },
  {
   "cell_type": "code",
   "execution_count": null,
   "id": "96a24966-c6db-441f-90ce-ea86db425565",
   "metadata": {},
   "outputs": [],
   "source": []
  },
  {
   "cell_type": "code",
   "execution_count": null,
   "id": "dbd0369c-f344-410e-8965-fcb1cd9b7799",
   "metadata": {},
   "outputs": [],
   "source": []
  },
  {
   "cell_type": "code",
   "execution_count": null,
   "id": "2b7636be-d6e2-4a15-8b94-3c0e4e2a9b90",
   "metadata": {},
   "outputs": [],
   "source": []
  },
  {
   "cell_type": "code",
   "execution_count": null,
   "id": "90432e73-f328-4da2-85e6-1214fdec1e98",
   "metadata": {},
   "outputs": [],
   "source": []
  },
  {
   "cell_type": "code",
   "execution_count": null,
   "id": "e536cbd6-6a7b-4b4f-87b0-9b867982d65b",
   "metadata": {},
   "outputs": [],
   "source": []
  }
 ],
 "metadata": {
  "kernelspec": {
   "display_name": "Python [conda env:base] *",
   "language": "python",
   "name": "conda-base-py"
  },
  "language_info": {
   "codemirror_mode": {
    "name": "ipython",
    "version": 3
   },
   "file_extension": ".py",
   "mimetype": "text/x-python",
   "name": "python",
   "nbconvert_exporter": "python",
   "pygments_lexer": "ipython3",
   "version": "3.12.7"
  }
 },
 "nbformat": 4,
 "nbformat_minor": 5
}
